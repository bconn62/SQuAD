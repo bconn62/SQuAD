{
 "cells": [
  {
   "cell_type": "markdown",
   "metadata": {},
   "source": [
    "## SQuAD 2.0\n",
    "\n",
    "Reading comprehension/information retrieval models are the building blocks of chatbots that a lot of businesses are leveraging primarily for customer service. \n",
    "\n",
    "The Stanford Question Answering Dataset (SQuAD) is a reading comprehension dataset, consisting of questions on a set of Wikipedia articles, where the answer to answerable questions (there are questions that are impossible to answer with the information provided) is a segment or span within the corresponding reading passage. The objective is to build Neural Networks that will be able to predict the span of the answer within the corresponding passage or context. \n",
    "\n"
   ]
  },
  {
   "cell_type": "code",
   "execution_count": 108,
   "metadata": {},
   "outputs": [],
   "source": [
    "import pandas as pd\n",
    "import numpy as np\n",
    "import matplotlib.pyplot as plt\n",
    "import seaborn as sns\n",
    "\n",
    "import nltk\n",
    "import re\n",
    "import gensim.models.word2vec as w2v\n",
    "import sklearn.manifold\n",
    "import glob\n",
    "from tqdm import tqdm, tqdm_notebook\n",
    "from functools import reduce\n",
    "\n",
    "from keras.layers.embeddings import Embedding\n",
    "from keras.layers import Dense, Dropout, RepeatVector, Flatten, recurrent, LSTM, Concatenate, merge\n",
    "from keras.layers import Input, Bidirectional, RNN, GRU, Activation\n",
    "from keras.models import Sequential, Model\n",
    "from keras.preprocessing.sequence import pad_sequences\n",
    "from keras.preprocessing.text import text_to_word_sequence, Tokenizer\n",
    "from keras.utils.np_utils import to_categorical\n",
    "from keras.utils import plot_model\n",
    "from keras.callbacks import EarlyStopping\n",
    "from IPython.display import SVG\n",
    "from keras.optimizers import Adadelta, Adagrad, Adam, Adamax, Nadam, RMSprop, SGD, TFOptimizer\n",
    "from keras.utils.vis_utils import model_to_dot\n",
    "from sklearn.preprocessing import LabelEncoder\n",
    "\n",
    "%matplotlib inline"
   ]
  },
  {
   "cell_type": "markdown",
   "metadata": {},
   "source": [
    "### Load in JSON File"
   ]
  },
  {
   "cell_type": "code",
   "execution_count": 2,
   "metadata": {},
   "outputs": [],
   "source": [
    "train = pd.read_json('./data/train-v2.0.json')\n",
    "test = pd.read_json('./data/dev-v2.0.json')"
   ]
  },
  {
   "cell_type": "code",
   "execution_count": 3,
   "metadata": {},
   "outputs": [],
   "source": [
    "# train[\"data\"][0]"
   ]
  },
  {
   "cell_type": "code",
   "execution_count": 4,
   "metadata": {},
   "outputs": [],
   "source": [
    "# train_topics = []\n",
    "# for aid in tqdm(range(len(train[\"data\"]))):\n",
    "#     topic = train[\"data\"][aid][\"title\"]\n",
    "#     train_topics.append(topic)\n",
    "    \n",
    "# print(len(train_topics))"
   ]
  },
  {
   "cell_type": "code",
   "execution_count": 5,
   "metadata": {},
   "outputs": [],
   "source": [
    "# test_topics = []\n",
    "# for aid in tqdm(range(len(test[\"data\"]))):\n",
    "#     topic = test[\"data\"][aid][\"title\"]\n",
    "#     test_topics.append(topic)\n",
    "    \n",
    "# print(len(test_topics))"
   ]
  },
  {
   "cell_type": "code",
   "execution_count": 6,
   "metadata": {},
   "outputs": [
    {
     "name": "stderr",
     "output_type": "stream",
     "text": [
      "100%|██████████| 442/442 [00:00<00:00, 3553.49it/s]\n"
     ]
    }
   ],
   "source": [
    "#extract data from train JSON file to dictionary\n",
    "\n",
    "train_dict = {\"contexts\": [], \"questions\": [], \"answers\": [], \"answer_starts\": []}\n",
    "\n",
    "for aid in tqdm(range(len(train[\"data\"]))):\n",
    "    articles = train[\"data\"][aid][\"paragraphs\"]\n",
    "    for pid in range(len(articles)):\n",
    "        qas = articles[pid][\"qas\"]\n",
    "        for qid in range(len(qas)):\n",
    "            if qas[qid][\"is_impossible\"] == False:\n",
    "                context = articles[pid][\"context\"]\n",
    "                train_dict[\"contexts\"].append(context)\n",
    "                question = qas[qid][\"question\"]\n",
    "                train_dict[\"questions\"].append(question)\n",
    "                answer_text = qas[qid][\"answers\"]\n",
    "                for a in answer_text:\n",
    "                    answer_start = a[\"answer_start\"]\n",
    "                    train_dict[\"answer_starts\"].append(answer_start)\n",
    "                    answer = a[\"text\"]\n",
    "                    train_dict[\"answers\"].append(answer)\n",
    "#                     answer_end = answer_start + len(answer)\n",
    "#                     train_dict[\"answer_ends\"].append(answer_end)\n",
    "                    "
   ]
  },
  {
   "cell_type": "code",
   "execution_count": 7,
   "metadata": {},
   "outputs": [
    {
     "name": "stderr",
     "output_type": "stream",
     "text": [
      "100%|██████████| 35/35 [00:00<00:00, 2741.89it/s]\n"
     ]
    }
   ],
   "source": [
    "#extract data from development/test JSON file to dictionary\n",
    "\n",
    "test_dict = {\"contexts\": [], \"questions\": [], \"answers\": [], \"answer_starts\": []}\n",
    "\n",
    "for aid in tqdm(range(len(test[\"data\"]))):\n",
    "    articles = test[\"data\"][aid][\"paragraphs\"]\n",
    "    for pid in range(len(articles)):\n",
    "        qas = articles[pid][\"qas\"]\n",
    "        for qid in range(len(qas)):\n",
    "            if qas[qid][\"is_impossible\"] == False:\n",
    "                context = articles[pid][\"context\"]\n",
    "                test_dict[\"contexts\"].append(context)\n",
    "                question = qas[qid][\"question\"]\n",
    "                test_dict[\"questions\"].append(question)\n",
    "                answer_text = qas[qid][\"answers\"][0]\n",
    "                answer_start = answer_text[\"answer_start\"]\n",
    "                test_dict[\"answer_starts\"].append(answer_start)\n",
    "                answer = answer_text[\"text\"]\n",
    "                test_dict[\"answers\"].append(answer)\n",
    "#                 answer_end = answer_start + len(answer)\n",
    "#                 test_dict[\"answer_ends\"].append(answer_end)"
   ]
  },
  {
   "cell_type": "code",
   "execution_count": 8,
   "metadata": {},
   "outputs": [],
   "source": [
    "train_df = pd.DataFrame(train_dict)\n",
    "test_df = pd.DataFrame(test_dict)"
   ]
  },
  {
   "cell_type": "code",
   "execution_count": 9,
   "metadata": {},
   "outputs": [
    {
     "name": "stdout",
     "output_type": "stream",
     "text": [
      "(86821, 4)\n",
      "(5928, 4)\n"
     ]
    }
   ],
   "source": [
    "print(train_df.shape)\n",
    "print(test_df.shape)"
   ]
  },
  {
   "cell_type": "code",
   "execution_count": 10,
   "metadata": {},
   "outputs": [
    {
     "data": {
      "text/html": [
       "<div>\n",
       "<style scoped>\n",
       "    .dataframe tbody tr th:only-of-type {\n",
       "        vertical-align: middle;\n",
       "    }\n",
       "\n",
       "    .dataframe tbody tr th {\n",
       "        vertical-align: top;\n",
       "    }\n",
       "\n",
       "    .dataframe thead th {\n",
       "        text-align: right;\n",
       "    }\n",
       "</style>\n",
       "<table border=\"1\" class=\"dataframe\">\n",
       "  <thead>\n",
       "    <tr style=\"text-align: right;\">\n",
       "      <th></th>\n",
       "      <th>contexts</th>\n",
       "      <th>questions</th>\n",
       "      <th>answers</th>\n",
       "      <th>answer_starts</th>\n",
       "    </tr>\n",
       "  </thead>\n",
       "  <tbody>\n",
       "    <tr>\n",
       "      <th>0</th>\n",
       "      <td>Beyoncé Giselle Knowles-Carter (/biːˈjɒnseɪ/ b...</td>\n",
       "      <td>When did Beyonce start becoming popular?</td>\n",
       "      <td>in the late 1990s</td>\n",
       "      <td>269</td>\n",
       "    </tr>\n",
       "    <tr>\n",
       "      <th>1</th>\n",
       "      <td>Beyoncé Giselle Knowles-Carter (/biːˈjɒnseɪ/ b...</td>\n",
       "      <td>What areas did Beyonce compete in when she was...</td>\n",
       "      <td>singing and dancing</td>\n",
       "      <td>207</td>\n",
       "    </tr>\n",
       "    <tr>\n",
       "      <th>2</th>\n",
       "      <td>Beyoncé Giselle Knowles-Carter (/biːˈjɒnseɪ/ b...</td>\n",
       "      <td>When did Beyonce leave Destiny's Child and bec...</td>\n",
       "      <td>2003</td>\n",
       "      <td>526</td>\n",
       "    </tr>\n",
       "    <tr>\n",
       "      <th>3</th>\n",
       "      <td>Beyoncé Giselle Knowles-Carter (/biːˈjɒnseɪ/ b...</td>\n",
       "      <td>In what city and state did Beyonce  grow up?</td>\n",
       "      <td>Houston, Texas</td>\n",
       "      <td>166</td>\n",
       "    </tr>\n",
       "    <tr>\n",
       "      <th>4</th>\n",
       "      <td>Beyoncé Giselle Knowles-Carter (/biːˈjɒnseɪ/ b...</td>\n",
       "      <td>In which decade did Beyonce become famous?</td>\n",
       "      <td>late 1990s</td>\n",
       "      <td>276</td>\n",
       "    </tr>\n",
       "  </tbody>\n",
       "</table>\n",
       "</div>"
      ],
      "text/plain": [
       "                                            contexts  \\\n",
       "0  Beyoncé Giselle Knowles-Carter (/biːˈjɒnseɪ/ b...   \n",
       "1  Beyoncé Giselle Knowles-Carter (/biːˈjɒnseɪ/ b...   \n",
       "2  Beyoncé Giselle Knowles-Carter (/biːˈjɒnseɪ/ b...   \n",
       "3  Beyoncé Giselle Knowles-Carter (/biːˈjɒnseɪ/ b...   \n",
       "4  Beyoncé Giselle Knowles-Carter (/biːˈjɒnseɪ/ b...   \n",
       "\n",
       "                                           questions              answers  \\\n",
       "0           When did Beyonce start becoming popular?    in the late 1990s   \n",
       "1  What areas did Beyonce compete in when she was...  singing and dancing   \n",
       "2  When did Beyonce leave Destiny's Child and bec...                 2003   \n",
       "3      In what city and state did Beyonce  grow up?        Houston, Texas   \n",
       "4         In which decade did Beyonce become famous?           late 1990s   \n",
       "\n",
       "   answer_starts  \n",
       "0            269  \n",
       "1            207  \n",
       "2            526  \n",
       "3            166  \n",
       "4            276  "
      ]
     },
     "execution_count": 10,
     "metadata": {},
     "output_type": "execute_result"
    }
   ],
   "source": [
    "train_df.head()"
   ]
  },
  {
   "cell_type": "code",
   "execution_count": 11,
   "metadata": {},
   "outputs": [
    {
     "data": {
      "text/html": [
       "<div>\n",
       "<style scoped>\n",
       "    .dataframe tbody tr th:only-of-type {\n",
       "        vertical-align: middle;\n",
       "    }\n",
       "\n",
       "    .dataframe tbody tr th {\n",
       "        vertical-align: top;\n",
       "    }\n",
       "\n",
       "    .dataframe thead th {\n",
       "        text-align: right;\n",
       "    }\n",
       "</style>\n",
       "<table border=\"1\" class=\"dataframe\">\n",
       "  <thead>\n",
       "    <tr style=\"text-align: right;\">\n",
       "      <th></th>\n",
       "      <th>contexts</th>\n",
       "      <th>questions</th>\n",
       "      <th>answers</th>\n",
       "      <th>answer_starts</th>\n",
       "    </tr>\n",
       "  </thead>\n",
       "  <tbody>\n",
       "    <tr>\n",
       "      <th>0</th>\n",
       "      <td>The Normans (Norman: Nourmands; French: Norman...</td>\n",
       "      <td>In what country is Normandy located?</td>\n",
       "      <td>France</td>\n",
       "      <td>159</td>\n",
       "    </tr>\n",
       "    <tr>\n",
       "      <th>1</th>\n",
       "      <td>The Normans (Norman: Nourmands; French: Norman...</td>\n",
       "      <td>When were the Normans in Normandy?</td>\n",
       "      <td>10th and 11th centuries</td>\n",
       "      <td>94</td>\n",
       "    </tr>\n",
       "    <tr>\n",
       "      <th>2</th>\n",
       "      <td>The Normans (Norman: Nourmands; French: Norman...</td>\n",
       "      <td>From which countries did the Norse originate?</td>\n",
       "      <td>Denmark, Iceland and Norway</td>\n",
       "      <td>256</td>\n",
       "    </tr>\n",
       "    <tr>\n",
       "      <th>3</th>\n",
       "      <td>The Normans (Norman: Nourmands; French: Norman...</td>\n",
       "      <td>Who was the Norse leader?</td>\n",
       "      <td>Rollo</td>\n",
       "      <td>308</td>\n",
       "    </tr>\n",
       "    <tr>\n",
       "      <th>4</th>\n",
       "      <td>The Normans (Norman: Nourmands; French: Norman...</td>\n",
       "      <td>What century did the Normans first gain their ...</td>\n",
       "      <td>10th century</td>\n",
       "      <td>671</td>\n",
       "    </tr>\n",
       "  </tbody>\n",
       "</table>\n",
       "</div>"
      ],
      "text/plain": [
       "                                            contexts  \\\n",
       "0  The Normans (Norman: Nourmands; French: Norman...   \n",
       "1  The Normans (Norman: Nourmands; French: Norman...   \n",
       "2  The Normans (Norman: Nourmands; French: Norman...   \n",
       "3  The Normans (Norman: Nourmands; French: Norman...   \n",
       "4  The Normans (Norman: Nourmands; French: Norman...   \n",
       "\n",
       "                                           questions  \\\n",
       "0               In what country is Normandy located?   \n",
       "1                 When were the Normans in Normandy?   \n",
       "2      From which countries did the Norse originate?   \n",
       "3                          Who was the Norse leader?   \n",
       "4  What century did the Normans first gain their ...   \n",
       "\n",
       "                       answers  answer_starts  \n",
       "0                       France            159  \n",
       "1      10th and 11th centuries             94  \n",
       "2  Denmark, Iceland and Norway            256  \n",
       "3                        Rollo            308  \n",
       "4                 10th century            671  "
      ]
     },
     "execution_count": 11,
     "metadata": {},
     "output_type": "execute_result"
    }
   ],
   "source": [
    "test_df.head()"
   ]
  },
  {
   "cell_type": "markdown",
   "metadata": {},
   "source": [
    "##### SQuAD Dataset\n",
    "\n",
    "Issues with Dataset:\n",
    "  1. Some answers don't exactly match what's in the context.\n",
    "  2. One word answers appear in multiple locations.\n",
    "\n",
    "For the first iteration of this project, answers that did not exactly match what was in the context and were one word were removed.\n"
   ]
  },
  {
   "cell_type": "markdown",
   "metadata": {},
   "source": [
    "### Preprocessing before modeling"
   ]
  },
  {
   "cell_type": "code",
   "execution_count": 12,
   "metadata": {},
   "outputs": [],
   "source": [
    "#remove punctuation and set everything to lowercase on train dataframe\n",
    "\n",
    "# for i in tqdm(train_df.select_dtypes(include=object).columns):\n",
    "#     train_df[i] = train_df[i].str.replace(\"[^\\w\\s]\",'')\n",
    "#     train_df[i] = train_df[i].map(lambda x: x.lower())"
   ]
  },
  {
   "cell_type": "code",
   "execution_count": 13,
   "metadata": {},
   "outputs": [],
   "source": [
    "#remove punctuation and set everything to lowercase on test dataframe\n",
    "\n",
    "# for i in tqdm(test_df.select_dtypes(include=object).columns):\n",
    "#     test_df[i] = test_df[i].str.replace(\"[^\\w\\s]\",'')\n",
    "#     test_df[i] = test_df[i].map(lambda x: x.lower())"
   ]
  },
  {
   "cell_type": "code",
   "execution_count": 14,
   "metadata": {},
   "outputs": [
    {
     "name": "stderr",
     "output_type": "stream",
     "text": [
      "100%|██████████| 3/3 [00:05<00:00,  2.38s/it]\n"
     ]
    }
   ],
   "source": [
    "#text_to_word_sequence on a copy of train dataframe to find the max len of each text column for padding\n",
    "\n",
    "train_df_tk = train_df.copy()\n",
    "for i in tqdm(train_df.select_dtypes(include=object).columns):\n",
    "    train_df_tk[i] = train_df_tk[i].map(lambda x: text_to_word_sequence(x))"
   ]
  },
  {
   "cell_type": "code",
   "execution_count": 15,
   "metadata": {},
   "outputs": [
    {
     "name": "stderr",
     "output_type": "stream",
     "text": [
      "100%|██████████| 3/3 [00:00<00:00,  4.61it/s]\n"
     ]
    }
   ],
   "source": [
    "# text_to_word_sequence on a copy of test dataframe to find the max len of each text column for padding\n",
    "\n",
    "test_df_tk = test_df.copy()\n",
    "for i in tqdm(test_df.select_dtypes(include=object).columns):\n",
    "    test_df_tk[i] = test_df_tk[i].map(lambda x: text_to_word_sequence(x))"
   ]
  },
  {
   "cell_type": "code",
   "execution_count": 18,
   "metadata": {},
   "outputs": [],
   "source": [
    "#function returns the start and end token indices of answers within the document\n",
    "#takes in the document and answers as a list of tokens\n",
    "\n",
    "def find_startend_index(list_of_words, answer):\n",
    "        len_ans = len(answer)\n",
    "        list_of_words.append(\"\")\n",
    "        start_idx = [idx for idx,w in enumerate(list_of_words[:(-1*len_ans)]) if w == answer[0] and list_of_words[idx + (len_ans -1)] == answer[-1]]\n",
    "#         print(start_idx)\n",
    "#         if len(start_idx) != 1:\n",
    "#             print(start_idx)\n",
    "#             print(answer)\n",
    "#             print(list_of_words)\n",
    "        if len(start_idx) > 0 and len(start_idx) < 2:\n",
    "            end_idx = start_idx[0] + (len_ans -1)\n",
    "            return start_idx[0], end_idx     \n",
    "        else:\n",
    "            return None, None"
   ]
  },
  {
   "cell_type": "code",
   "execution_count": 19,
   "metadata": {},
   "outputs": [],
   "source": [
    "train_word_idx = {\"start_idx\": [], \"end_idx\": []}\n",
    "for i in range(len(train_df_tk[\"contexts\"])):\n",
    "    start_idx, end_idx = find_startend_index(train_df_tk[\"contexts\"][i], train_df_tk[\"answers\"][i])\n",
    "    if start_idx == None  and end_idx == None:\n",
    "        train_word_idx[\"start_idx\"].append(None)\n",
    "        train_word_idx[\"end_idx\"].append(None)\n",
    "    else:\n",
    "        train_word_idx[\"start_idx\"].append(int(start_idx))\n",
    "        train_word_idx[\"end_idx\"].append(int(end_idx))"
   ]
  },
  {
   "cell_type": "code",
   "execution_count": 20,
   "metadata": {},
   "outputs": [],
   "source": [
    "test_word_idx = {\"start_idx\": [], \"end_idx\": []}\n",
    "for i in range(len(test_df_tk[\"contexts\"])):\n",
    "    start_idx, end_idx = find_startend_index(test_df_tk[\"contexts\"][i], test_df_tk[\"answers\"][i])\n",
    "    if start_idx == None and end_idx == None:\n",
    "        test_word_idx[\"start_idx\"].append(None)\n",
    "        test_word_idx[\"end_idx\"].append(None)\n",
    "    else:\n",
    "        test_word_idx[\"start_idx\"].append(int(start_idx))\n",
    "        test_word_idx[\"end_idx\"].append(int(end_idx))"
   ]
  },
  {
   "cell_type": "code",
   "execution_count": 21,
   "metadata": {},
   "outputs": [],
   "source": [
    "train_idx_df = pd.DataFrame(train_word_idx)\n",
    "test_idx_df = pd.DataFrame(test_word_idx)"
   ]
  },
  {
   "cell_type": "code",
   "execution_count": 22,
   "metadata": {},
   "outputs": [],
   "source": [
    "#concat start/end index dataframe with original\n",
    "\n",
    "train_df_tk = pd.concat([train_df_tk, train_idx_df], axis=1)\n",
    "test_df_tk = pd.concat([test_df_tk, test_idx_df], axis=1)"
   ]
  },
  {
   "cell_type": "code",
   "execution_count": 23,
   "metadata": {},
   "outputs": [],
   "source": [
    "#drop rows where answers don't match exactly what's in the context\n",
    "train_df_tk.dropna(inplace = True)\n",
    "test_df_tk.dropna(inplace = True)"
   ]
  },
  {
   "cell_type": "code",
   "execution_count": 24,
   "metadata": {},
   "outputs": [],
   "source": [
    "train_df_tk.reset_index(inplace=True)\n",
    "test_df_tk.reset_index(inplace=True)"
   ]
  },
  {
   "cell_type": "code",
   "execution_count": 25,
   "metadata": {},
   "outputs": [
    {
     "data": {
      "text/html": [
       "<div>\n",
       "<style scoped>\n",
       "    .dataframe tbody tr th:only-of-type {\n",
       "        vertical-align: middle;\n",
       "    }\n",
       "\n",
       "    .dataframe tbody tr th {\n",
       "        vertical-align: top;\n",
       "    }\n",
       "\n",
       "    .dataframe thead th {\n",
       "        text-align: right;\n",
       "    }\n",
       "</style>\n",
       "<table border=\"1\" class=\"dataframe\">\n",
       "  <thead>\n",
       "    <tr style=\"text-align: right;\">\n",
       "      <th></th>\n",
       "      <th>index</th>\n",
       "      <th>contexts</th>\n",
       "      <th>questions</th>\n",
       "      <th>answers</th>\n",
       "      <th>answer_starts</th>\n",
       "      <th>start_idx</th>\n",
       "      <th>end_idx</th>\n",
       "    </tr>\n",
       "  </thead>\n",
       "  <tbody>\n",
       "  </tbody>\n",
       "</table>\n",
       "</div>"
      ],
      "text/plain": [
       "Empty DataFrame\n",
       "Columns: [index, contexts, questions, answers, answer_starts, start_idx, end_idx]\n",
       "Index: []"
      ]
     },
     "execution_count": 25,
     "metadata": {},
     "output_type": "execute_result"
    }
   ],
   "source": [
    "train_df_tk[train_df_tk[\"start_idx\"].isnull()]"
   ]
  },
  {
   "cell_type": "code",
   "execution_count": 26,
   "metadata": {},
   "outputs": [
    {
     "data": {
      "text/plain": [
       "75578"
      ]
     },
     "execution_count": 26,
     "metadata": {},
     "output_type": "execute_result"
    }
   ],
   "source": [
    "len(train_df_tk[\"start_idx\"])"
   ]
  },
  {
   "cell_type": "code",
   "execution_count": 27,
   "metadata": {},
   "outputs": [
    {
     "name": "stderr",
     "output_type": "stream",
     "text": [
      "100%|██████████| 75578/75578 [00:01<00:00, 64813.46it/s]\n"
     ]
    }
   ],
   "source": [
    "con_len = []\n",
    "for i in tqdm(range(len(train_df_tk[\"start_idx\"]))):\n",
    "    con_len.append(len(train_df_tk[\"contexts\"][i]))"
   ]
  },
  {
   "cell_type": "code",
   "execution_count": 28,
   "metadata": {},
   "outputs": [
    {
     "name": "stderr",
     "output_type": "stream",
     "text": [
      "100%|██████████| 5059/5059 [00:00<00:00, 62570.36it/s]\n"
     ]
    }
   ],
   "source": [
    "con_len_test = []\n",
    "for i in tqdm(range(len(test_df_tk[\"start_idx\"]))):\n",
    "    con_len_test.append(len(test_df_tk[\"contexts\"][i]))"
   ]
  },
  {
   "cell_type": "code",
   "execution_count": 29,
   "metadata": {},
   "outputs": [],
   "source": [
    "train_df_tk[\"context_length\"] = con_len\n",
    "test_df_tk[\"context_length\"] = con_len_test"
   ]
  },
  {
   "cell_type": "code",
   "execution_count": 30,
   "metadata": {},
   "outputs": [
    {
     "data": {
      "text/html": [
       "<div>\n",
       "<style scoped>\n",
       "    .dataframe tbody tr th:only-of-type {\n",
       "        vertical-align: middle;\n",
       "    }\n",
       "\n",
       "    .dataframe tbody tr th {\n",
       "        vertical-align: top;\n",
       "    }\n",
       "\n",
       "    .dataframe thead th {\n",
       "        text-align: right;\n",
       "    }\n",
       "</style>\n",
       "<table border=\"1\" class=\"dataframe\">\n",
       "  <thead>\n",
       "    <tr style=\"text-align: right;\">\n",
       "      <th></th>\n",
       "      <th>index</th>\n",
       "      <th>contexts</th>\n",
       "      <th>questions</th>\n",
       "      <th>answers</th>\n",
       "      <th>answer_starts</th>\n",
       "      <th>start_idx</th>\n",
       "      <th>end_idx</th>\n",
       "      <th>context_length</th>\n",
       "    </tr>\n",
       "  </thead>\n",
       "  <tbody>\n",
       "  </tbody>\n",
       "</table>\n",
       "</div>"
      ],
      "text/plain": [
       "Empty DataFrame\n",
       "Columns: [index, contexts, questions, answers, answer_starts, start_idx, end_idx, context_length]\n",
       "Index: []"
      ]
     },
     "execution_count": 30,
     "metadata": {},
     "output_type": "execute_result"
    }
   ],
   "source": [
    "train_df_tk[train_df_tk[\"context_length\"] < train_df_tk[\"start_idx\"]]"
   ]
  },
  {
   "cell_type": "code",
   "execution_count": 31,
   "metadata": {},
   "outputs": [
    {
     "data": {
      "text/html": [
       "<div>\n",
       "<style scoped>\n",
       "    .dataframe tbody tr th:only-of-type {\n",
       "        vertical-align: middle;\n",
       "    }\n",
       "\n",
       "    .dataframe tbody tr th {\n",
       "        vertical-align: top;\n",
       "    }\n",
       "\n",
       "    .dataframe thead th {\n",
       "        text-align: right;\n",
       "    }\n",
       "</style>\n",
       "<table border=\"1\" class=\"dataframe\">\n",
       "  <thead>\n",
       "    <tr style=\"text-align: right;\">\n",
       "      <th></th>\n",
       "      <th>index</th>\n",
       "      <th>contexts</th>\n",
       "      <th>questions</th>\n",
       "      <th>answers</th>\n",
       "      <th>answer_starts</th>\n",
       "      <th>start_idx</th>\n",
       "      <th>end_idx</th>\n",
       "      <th>context_length</th>\n",
       "    </tr>\n",
       "  </thead>\n",
       "  <tbody>\n",
       "  </tbody>\n",
       "</table>\n",
       "</div>"
      ],
      "text/plain": [
       "Empty DataFrame\n",
       "Columns: [index, contexts, questions, answers, answer_starts, start_idx, end_idx, context_length]\n",
       "Index: []"
      ]
     },
     "execution_count": 31,
     "metadata": {},
     "output_type": "execute_result"
    }
   ],
   "source": [
    "test_df_tk[test_df_tk[\"context_length\"] < test_df_tk[\"start_idx\"]]"
   ]
  },
  {
   "cell_type": "code",
   "execution_count": 32,
   "metadata": {},
   "outputs": [
    {
     "data": {
      "image/png": "[encoded data removed]",
      "text/plain": [
       "<Figure size 720x432 with 1 Axes>"
      ]
     },
     "metadata": {
      "needs_background": "light"
     },
     "output_type": "display_data"
    }
   ],
   "source": [
    "plt.figure(figsize=(10,6))\n",
    "plt.hist(train_df_tk[\"context_length\"]);"
   ]
  },
  {
   "cell_type": "code",
   "execution_count": 33,
   "metadata": {},
   "outputs": [
    {
     "data": {
      "image/png": "[encoded data removed]",
      "text/plain": [
       "<Figure size 720x432 with 1 Axes>"
      ]
     },
     "metadata": {
      "needs_background": "light"
     },
     "output_type": "display_data"
    }
   ],
   "source": [
    "plt.figure(figsize=(10,6))\n",
    "plt.hist(test_df_tk[\"context_length\"]);"
   ]
  },
  {
   "cell_type": "code",
   "execution_count": 34,
   "metadata": {},
   "outputs": [
    {
     "name": "stderr",
     "output_type": "stream",
     "text": [
      "100%|██████████| 75578/75578 [00:01<00:00, 70498.51it/s]\n"
     ]
    }
   ],
   "source": [
    "q_len = []\n",
    "for i in tqdm(range(len(train_df_tk[\"start_idx\"]))):\n",
    "    q_len.append(len(train_df_tk[\"questions\"][i]))"
   ]
  },
  {
   "cell_type": "code",
   "execution_count": 35,
   "metadata": {},
   "outputs": [
    {
     "name": "stderr",
     "output_type": "stream",
     "text": [
      "100%|██████████| 5059/5059 [00:00<00:00, 63924.73it/s]\n"
     ]
    }
   ],
   "source": [
    "q_len_test = []\n",
    "for i in tqdm(range(len(test_df_tk[\"start_idx\"]))):\n",
    "    q_len_test.append(len(test_df_tk[\"questions\"][i]))"
   ]
  },
  {
   "cell_type": "code",
   "execution_count": 36,
   "metadata": {},
   "outputs": [],
   "source": [
    "train_df_tk[\"question_length\"] = q_len\n",
    "test_df_tk[\"question_length\"] = q_len_test"
   ]
  },
  {
   "cell_type": "code",
   "execution_count": 37,
   "metadata": {},
   "outputs": [
    {
     "data": {
      "image/png": "[encoded data removed]",
      "text/plain": [
       "<Figure size 720x432 with 1 Axes>"
      ]
     },
     "metadata": {
      "needs_background": "light"
     },
     "output_type": "display_data"
    }
   ],
   "source": [
    "plt.figure(figsize=(10,6))\n",
    "plt.hist(train_df_tk[\"question_length\"]);"
   ]
  },
  {
   "cell_type": "code",
   "execution_count": 38,
   "metadata": {},
   "outputs": [
    {
     "data": {
      "image/png": "[encoded data removed]",
      "text/plain": [
       "<Figure size 720x432 with 1 Axes>"
      ]
     },
     "metadata": {
      "needs_background": "light"
     },
     "output_type": "display_data"
    }
   ],
   "source": [
    "plt.figure(figsize=(10,6))\n",
    "plt.hist(test_df_tk[\"question_length\"]);"
   ]
  },
  {
   "cell_type": "code",
   "execution_count": 39,
   "metadata": {},
   "outputs": [
    {
     "name": "stdout",
     "output_type": "stream",
     "text": [
      "0.9306147291539866\n",
      "70334\n",
      "75578\n"
     ]
    }
   ],
   "source": [
    "print(len(train_df_tk[train_df_tk[\"context_length\"] <= 200]) / len(train_df_tk[\"context_length\"]))\n",
    "print(len(train_df_tk[train_df_tk[\"context_length\"] <= 200]))\n",
    "print(len(train_df_tk[\"context_length\"]))"
   ]
  },
  {
   "cell_type": "code",
   "execution_count": 40,
   "metadata": {},
   "outputs": [
    {
     "name": "stdout",
     "output_type": "stream",
     "text": [
      "0.9887401095556908\n",
      "74727\n",
      "75578\n"
     ]
    }
   ],
   "source": [
    "print(len(train_df_tk[train_df_tk[\"question_length\"] <= 20]) / len(train_df_tk[\"question_length\"]))\n",
    "print(len(train_df_tk[train_df_tk[\"question_length\"] <= 20]))\n",
    "print(len(train_df_tk[\"question_length\"]))"
   ]
  },
  {
   "cell_type": "code",
   "execution_count": 41,
   "metadata": {},
   "outputs": [
    {
     "name": "stdout",
     "output_type": "stream",
     "text": [
      "0.9163866376754299\n",
      "4636\n",
      "5059\n"
     ]
    }
   ],
   "source": [
    "print(len(test_df_tk[test_df_tk[\"context_length\"] <= 200]) / len(test_df_tk[\"context_length\"]))\n",
    "print(len(test_df_tk[test_df_tk[\"context_length\"] <= 200]))\n",
    "print(len(test_df_tk[\"context_length\"]))"
   ]
  },
  {
   "cell_type": "code",
   "execution_count": 42,
   "metadata": {},
   "outputs": [
    {
     "name": "stdout",
     "output_type": "stream",
     "text": [
      "0.9839889306186993\n",
      "4978\n",
      "5059\n"
     ]
    }
   ],
   "source": [
    "print(len(test_df_tk[test_df_tk[\"question_length\"] <= 20]) / len(test_df_tk[\"question_length\"]))\n",
    "print(len(test_df_tk[test_df_tk[\"question_length\"] <= 20]))\n",
    "print(len(test_df_tk[\"question_length\"]))"
   ]
  },
  {
   "cell_type": "code",
   "execution_count": 43,
   "metadata": {},
   "outputs": [],
   "source": [
    "train_df_tk = train_df_tk[train_df_tk[\"context_length\"] <= 200]\n",
    "test_df_tk = test_df_tk[test_df_tk[\"context_length\"] <= 200]"
   ]
  },
  {
   "cell_type": "code",
   "execution_count": 44,
   "metadata": {},
   "outputs": [],
   "source": [
    "train_df_tk = train_df_tk[train_df_tk[\"question_length\"] <= 20]\n",
    "test_df_tk = test_df_tk[test_df_tk[\"question_length\"] <= 20]"
   ]
  },
  {
   "cell_type": "code",
   "execution_count": 45,
   "metadata": {},
   "outputs": [],
   "source": [
    "train_df_tk.reset_index(inplace=True)\n",
    "test_df_tk.reset_index(inplace=True)"
   ]
  },
  {
   "cell_type": "code",
   "execution_count": 46,
   "metadata": {},
   "outputs": [],
   "source": [
    "drop_list = [\"level_0\", \"index\"]\n",
    "\n",
    "train_df_tk = train_df_tk.drop(drop_list, axis=1)\n",
    "test_df_tk = test_df_tk.drop(drop_list, axis=1)"
   ]
  },
  {
   "cell_type": "code",
   "execution_count": 68,
   "metadata": {},
   "outputs": [
    {
     "name": "stdout",
     "output_type": "stream",
     "text": [
      "(69542, 8)\n",
      "(4570, 8)\n"
     ]
    }
   ],
   "source": [
    "print(train_df_tk.shape)\n",
    "print(test_df_tk.shape)"
   ]
  },
  {
   "cell_type": "markdown",
   "metadata": {},
   "source": [
    "#### Set Variables"
   ]
  },
  {
   "cell_type": "code",
   "execution_count": 48,
   "metadata": {},
   "outputs": [],
   "source": [
    "Xc_sr = train_df_tk[\"contexts\"]\n",
    "Xq_sr = train_df_tk[\"questions\"]\n",
    "y_sr = train_df[\"answers\"]\n",
    "ys_sr = train_df_tk[\"start_idx\"]\n",
    "ye_sr = train_df_tk[\"end_idx\"]\n",
    "\n",
    "Xc_test_sr = test_df_tk[\"contexts\"]\n",
    "Xq_test_sr = test_df_tk[\"questions\"]\n",
    "y_test_sr = test_df[\"answers\"]\n",
    "ys_test_sr = test_df_tk[\"start_idx\"]\n",
    "ye_test_sr = test_df_tk[\"end_idx\"]\n",
    "\n",
    "Xc_tk = train_df_tk[\"contexts\"]\n",
    "Xq_tk = train_df_tk[\"questions\"]"
   ]
  },
  {
   "cell_type": "code",
   "execution_count": 51,
   "metadata": {},
   "outputs": [],
   "source": [
    "#concat the contexts and questions vertically to get a full vocabulary list.\n",
    "\n",
    "total = pd.concat([Xc_sr, Xq_sr, Xc_test_sr, Xq_test_sr], axis = 0)"
   ]
  },
  {
   "cell_type": "code",
   "execution_count": 52,
   "metadata": {},
   "outputs": [],
   "source": [
    "#tokenize the concat corpuses to get the unique vocab list from tk.word_index\n",
    "tk = Tokenizer(num_words=87537)\n",
    "tk.fit_on_texts(total)\n",
    "tk_train_seq = tk.texts_to_sequences(total)"
   ]
  },
  {
   "cell_type": "code",
   "execution_count": 53,
   "metadata": {},
   "outputs": [
    {
     "data": {
      "text/plain": [
       "87442"
      ]
     },
     "execution_count": 53,
     "metadata": {},
     "output_type": "execute_result"
    }
   ],
   "source": [
    "len(tk.word_index)"
   ]
  },
  {
   "cell_type": "code",
   "execution_count": 54,
   "metadata": {},
   "outputs": [],
   "source": [
    "NB_WORDS = len(tk.word_index)  #Number of unique words in vocabulary dictionary\n",
    "MAX_LEN_C =  len(max(Xc_tk, key=len)) #Maximum number of words in context\n",
    "MAX_LEN_Q =  len(max(Xq_tk, key=len)) #Maximum number of words in question"
   ]
  },
  {
   "cell_type": "code",
   "execution_count": 55,
   "metadata": {},
   "outputs": [
    {
     "name": "stdout",
     "output_type": "stream",
     "text": [
      "MAX_LEN_C:  200\n",
      "MAX_LEN_Q:  20\n"
     ]
    }
   ],
   "source": [
    "print(\"MAX_LEN_C: \", MAX_LEN_C)\n",
    "print(\"MAX_LEN_Q: \", MAX_LEN_Q)"
   ]
  },
  {
   "cell_type": "code",
   "execution_count": 56,
   "metadata": {},
   "outputs": [],
   "source": [
    "#function to tokenize a corpus\n",
    "#takes in the corpus, unique vocabulary size, max len for padding\n",
    "\n",
    "def tokenize_text(text, num_words, max_len):\n",
    "    tk = Tokenizer(num_words=num_words)\n",
    "    tk.fit_on_texts(text)\n",
    "    text_seq = tk.texts_to_sequences(text)\n",
    "    text_seq_pad = pad_sequences(text_seq, maxlen=max_len)\n",
    "    return text_seq_pad"
   ]
  },
  {
   "cell_type": "code",
   "execution_count": 57,
   "metadata": {},
   "outputs": [],
   "source": [
    "Xc_train = tokenize_text(Xc_sr, NB_WORDS, MAX_LEN_C)\n",
    "Xq_train = tokenize_text(Xq_sr, NB_WORDS, MAX_LEN_Q)\n",
    "\n",
    "Xc_test = tokenize_text(Xc_test_sr, NB_WORDS, MAX_LEN_C)\n",
    "Xq_test = tokenize_text(Xq_test_sr, NB_WORDS, MAX_LEN_Q)"
   ]
  },
  {
   "cell_type": "code",
   "execution_count": 60,
   "metadata": {},
   "outputs": [
    {
     "name": "stderr",
     "output_type": "stream",
     "text": [
      "100%|██████████| 69542/69542 [00:02<00:00, 31542.63it/s]\n"
     ]
    }
   ],
   "source": [
    "y_array_train = np.zeros((len(train_df_tk[\"start_idx\"]), MAX_LEN_C))\n",
    "for i in tqdm(range(len(y_array_train))):\n",
    "    idx = int(MAX_LEN_C - len(train_df_tk[\"contexts\"][i]) + train_df_tk[\"start_idx\"][i] - 1)\n",
    "    y_array_train[i][idx] = 1\n"
   ]
  },
  {
   "cell_type": "code",
   "execution_count": 61,
   "metadata": {},
   "outputs": [
    {
     "name": "stderr",
     "output_type": "stream",
     "text": [
      "100%|██████████| 4570/4570 [00:00<00:00, 30405.08it/s]\n"
     ]
    }
   ],
   "source": [
    "y_array_test = np.zeros((len(test_df_tk[\"start_idx\"]), MAX_LEN_C))\n",
    "for i in tqdm(range(len(y_array_test))):\n",
    "    idx = int(MAX_LEN_C - len(test_df_tk[\"contexts\"][i]) + test_df_tk[\"start_idx\"][i] - 1)\n",
    "    y_array_test[i][idx] = 1"
   ]
  },
  {
   "cell_type": "markdown",
   "metadata": {},
   "source": [
    "### GloVe Embedding\n",
    "\n",
    "https://nlp.stanford.edu/projects/glove/"
   ]
  },
  {
   "cell_type": "code",
   "execution_count": 62,
   "metadata": {},
   "outputs": [
    {
     "name": "stderr",
     "output_type": "stream",
     "text": [
      "400000it [00:24, 16476.02it/s]\n"
     ]
    }
   ],
   "source": [
    "# Create a dictionary of words to word vectors.\n",
    "\n",
    "GLOVE_DIM = 300\n",
    "\n",
    "glove_file = 'glove.6B.' + str(GLOVE_DIM) + 'd.txt'\n",
    "emb_dict = {}\n",
    "glove = open('./data/' + glove_file)\n",
    "for line in tqdm(glove):\n",
    "    values = line.split()\n",
    "    word = values[0]\n",
    "    vector = np.asarray(values[1:], dtype='float32')\n",
    "    emb_dict[word] = vector\n",
    "glove.close()"
   ]
  },
  {
   "cell_type": "code",
   "execution_count": 71,
   "metadata": {},
   "outputs": [],
   "source": [
    "#create an embedding matrix based on the pretrained GloVe word vectors\n",
    "#use embedding matrix as weights in the embedding layer of Neural Network\n",
    "\n",
    "emb_matrix = np.zeros((NB_WORDS, GLOVE_DIM))\n",
    "\n",
    "for w, i in tk.word_index.items():\n",
    "    # The word_index contains a token for all words of the training data so we need to limit that\n",
    "    if i < NB_WORDS:\n",
    "        vect = emb_dict.get(w)\n",
    "        # Check if the word from the training data occurs in the GloVe word embeddings\n",
    "        # Otherwise the vector is kept with only zeros\n",
    "        if vect is not None:\n",
    "            emb_matrix[i] = vect\n",
    "    else:\n",
    "        break"
   ]
  },
  {
   "cell_type": "code",
   "execution_count": 65,
   "metadata": {},
   "outputs": [],
   "source": [
    "# #function that replaces words in corpus with pretrained GloVe word vectors\n",
    "\n",
    "# def text_to_glove(text):\n",
    "#     glove = text.copy()\n",
    "#     for j, line in tqdm(enumerate(text)):\n",
    "#         for i in range(len(line)):\n",
    "#             vect = emb_dict.get(line[i])\n",
    "#             if type(vect) != None:\n",
    "#                 glove[j][i] = vect\n",
    "#             else:\n",
    "#                 glove[j][i] = np.zeros((1, 300))  \n",
    "#     return glove\n"
   ]
  },
  {
   "cell_type": "markdown",
   "metadata": {},
   "source": [
    "### Model 1 - GloVe Embedding"
   ]
  },
  {
   "cell_type": "code",
   "execution_count": 69,
   "metadata": {},
   "outputs": [],
   "source": [
    "GLOVE_DIM = 300\n",
    "BATCH_SIZE = 32\n",
    "EPOCHS = 50\n",
    "NB_WORDS = len(tk.word_index)"
   ]
  },
  {
   "cell_type": "code",
   "execution_count": 113,
   "metadata": {},
   "outputs": [
    {
     "name": "stdout",
     "output_type": "stream",
     "text": [
      "__________________________________________________________________________________________________\n",
      "Layer (type)                    Output Shape         Param #     Connected to                     \n",
      "==================================================================================================\n",
      "question_input (InputLayer)     (None, 20)           0                                            \n",
      "__________________________________________________________________________________________________\n",
      "context_input (InputLayer)      (None, 200)          0                                            \n",
      "__________________________________________________________________________________________________\n",
      "embedding_40 (Embedding)        (None, 20, 300)      26232600    question_input[0][0]             \n",
      "__________________________________________________________________________________________________\n",
      "embedding_39 (Embedding)        (None, 200, 300)     26232600    context_input[0][0]              \n",
      "__________________________________________________________________________________________________\n",
      "lstm_16 (LSTM)                  [(None, 8), (None, 8 9888        embedding_40[0][0]               \n",
      "__________________________________________________________________________________________________\n",
      "lstm_17 (LSTM)                  (None, 8)            9888        embedding_39[0][0]               \n",
      "                                                                 lstm_16[0][1]                    \n",
      "                                                                 lstm_16[0][2]                    \n",
      "__________________________________________________________________________________________________\n",
      "dense_8 (Dense)                 (None, 200)          1800        lstm_17[0][0]                    \n",
      "__________________________________________________________________________________________________\n",
      "output (Dense)                  (None, 200)          40200       dense_8[0][0]                    \n",
      "==================================================================================================\n",
      "Total params: 52,526,976\n",
      "Trainable params: 61,776\n",
      "Non-trainable params: 52,465,200\n",
      "__________________________________________________________________________________________________\n"
     ]
    }
   ],
   "source": [
    "#inputs\n",
    "context_input = Input(shape=(MAX_LEN_C,), name=\"context_input\")\n",
    "question_input = Input(shape=(MAX_LEN_Q,), name=\"question_input\")\n",
    "\n",
    "#embedding layers with emb matrix weights based of pre-trained GloVe word vectors\n",
    "context_embedding_layer = Embedding(NB_WORDS, 300, weights=[emb_matrix], input_length=MAX_LEN_C, trainable=False)\n",
    "question_embedding_layer = Embedding(NB_WORDS,300, weights=[emb_matrix], input_length=MAX_LEN_Q, trainable=False)\n",
    "context_embedded_sequences = context_embedding_layer(context_input)\n",
    "question_embedded_sequences = question_embedding_layer(question_input)\n",
    "\n",
    "#First read question, then read context conditioned on question output\n",
    "#hidden state (h_state) and cell state (c_state) of question LSTM layer passed into context LSTM layer\n",
    "question_encoder, h_state, c_state = LSTM(8, return_state=True)(question_embedded_sequences)\n",
    "#co-attention \n",
    "context_encoder = LSTM(8, dropout=0.35)(context_embedded_sequences, initial_state=[h_state, c_state])\n",
    "\n",
    "\n",
    "intermediate = Dense(MAX_LEN_C, activation='relu')(context_encoder)\n",
    "predictions = Dense(MAX_LEN_C,activation='softmax', name='output')(intermediate)\n",
    "model = Model(inputs=[context_input,question_input],outputs=predictions)\n",
    "optimizer = SGD(lr=0.05, momentum=0.0, decay=0.0, nesterov=False)\n",
    "\n",
    "model.compile(optimizer=optimizer, loss='categorical_crossentropy', metrics=['accuracy'])\n",
    "\n",
    "model.summary()"
   ]
  },
  {
   "cell_type": "code",
   "execution_count": 114,
   "metadata": {},
   "outputs": [],
   "source": [
    "plot_model(model, to_file='model.png')"
   ]
  },
  {
   "cell_type": "code",
   "execution_count": 115,
   "metadata": {},
   "outputs": [],
   "source": [
    "early_stopping = EarlyStopping(monitor='val_loss', min_delta=0, patience=10, verbose=0, mode='auto',\n",
    "              baseline=None, restore_best_weights=False)"
   ]
  },
  {
   "cell_type": "code",
   "execution_count": 116,
   "metadata": {},
   "outputs": [
    {
     "name": "stdout",
     "output_type": "stream",
     "text": [
      "Train on 48679 samples, validate on 20863 samples\n",
      "Epoch 1/10\n",
      "48679/48679 [==============================] - 316s 6ms/step - loss: 5.0766 - acc: 0.0095 - val_loss: 5.0643 - val_acc: 0.0091\n",
      "Epoch 2/10\n",
      "48679/48679 [==============================] - 307s 6ms/step - loss: 5.0080 - acc: 0.0116 - val_loss: 5.0620 - val_acc: 0.0072\n",
      "Epoch 3/10\n",
      "48679/48679 [==============================] - 298s 6ms/step - loss: 5.0050 - acc: 0.0126 - val_loss: 5.0549 - val_acc: 0.0091\n",
      "Epoch 4/10\n",
      "48679/48679 [==============================] - 308s 6ms/step - loss: 5.0040 - acc: 0.0117 - val_loss: 5.0592 - val_acc: 0.0076\n",
      "Epoch 5/10\n",
      "48679/48679 [==============================] - 303s 6ms/step - loss: 5.0029 - acc: 0.0113 - val_loss: 5.0580 - val_acc: 0.0091\n",
      "Epoch 6/10\n",
      "48679/48679 [==============================] - 309s 6ms/step - loss: 5.0021 - acc: 0.0114 - val_loss: 5.0531 - val_acc: 0.0088\n",
      "Epoch 7/10\n",
      "48679/48679 [==============================] - 301s 6ms/step - loss: 5.0009 - acc: 0.0115 - val_loss: 5.0491 - val_acc: 0.0080\n",
      "Epoch 8/10\n",
      "48679/48679 [==============================] - 304s 6ms/step - loss: 5.0009 - acc: 0.0109 - val_loss: 5.0475 - val_acc: 0.0088\n",
      "Epoch 9/10\n",
      "48679/48679 [==============================] - 314s 6ms/step - loss: 5.0005 - acc: 0.0109 - val_loss: 5.0519 - val_acc: 0.0088\n",
      "Epoch 10/10\n",
      "48679/48679 [==============================] - 311s 6ms/step - loss: 4.9998 - acc: 0.0124 - val_loss: 5.0514 - val_acc: 0.0079\n"
     ]
    }
   ],
   "source": [
    "history = model.fit({'context_input':Xc_train,'question_input':Xq_train},{'output':y_array_train},\n",
    "          epochs=10, batch_size=BATCH_SIZE, validation_split = 0.3, callbacks = [early_stopping])"
   ]
  },
  {
   "cell_type": "code",
   "execution_count": 76,
   "metadata": {},
   "outputs": [
    {
     "name": "stdout",
     "output_type": "stream",
     "text": [
      "4570/4570 [==============================] - 6s 1ms/step\n"
     ]
    },
    {
     "data": {
      "text/plain": [
       "[5.046049122424303, 0.009846827133479213]"
      ]
     },
     "execution_count": 76,
     "metadata": {},
     "output_type": "execute_result"
    }
   ],
   "source": [
    "model.evaluate([Xc_test, Xq_test], y_array_test, batch_size=BATCH_SIZE)"
   ]
  },
  {
   "cell_type": "code",
   "execution_count": 105,
   "metadata": {},
   "outputs": [
    {
     "data": {
      "text/plain": [
       "<matplotlib.legend.Legend at 0x1a71c03a20>"
      ]
     },
     "execution_count": 105,
     "metadata": {},
     "output_type": "execute_result"
    },
    {
     "data": {
      "image/png": "[encoded data removed]",
      "text/plain": [
       "<Figure size 720x432 with 1 Axes>"
      ]
     },
     "metadata": {
      "needs_background": "light"
     },
     "output_type": "display_data"
    }
   ],
   "source": [
    "plt.figure(figsize=(10,6))\n",
    "plt.plot(history.history[\"loss\"], label=\"Loss\")\n",
    "plt.plot(history.history[\"val_loss\"], label=\"Val_Loss\")\n",
    "plt.legend()"
   ]
  },
  {
   "cell_type": "code",
   "execution_count": null,
   "metadata": {},
   "outputs": [],
   "source": [
    "predictions = model.predict([Xc_test, Xq_test])"
   ]
  },
  {
   "cell_type": "code",
   "execution_count": null,
   "metadata": {},
   "outputs": [],
   "source": [
    "len(predictions)"
   ]
  },
  {
   "cell_type": "code",
   "execution_count": null,
   "metadata": {
    "scrolled": true
   },
   "outputs": [],
   "source": [
    "predictions[0]"
   ]
  },
  {
   "cell_type": "code",
   "execution_count": null,
   "metadata": {},
   "outputs": [],
   "source": [
    "predictions[0].argmax()"
   ]
  },
  {
   "cell_type": "markdown",
   "metadata": {},
   "source": [
    "### Model 2 - GloVe Embedding"
   ]
  },
  {
   "cell_type": "code",
   "execution_count": 117,
   "metadata": {},
   "outputs": [],
   "source": [
    "# #inputs\n",
    "# context_input = Input(shape=(MAX_LEN_C,), name=\"context_input\")\n",
    "# question_input = Input(shape=(MAX_LEN_Q,), name=\"question_input\")\n",
    "\n",
    "# #embedding layers with emb matrix weights based of pre-trained GloVe word vectors\n",
    "# context_embedding_layer = Embedding(NB_WORDS, 300, weights=[emb_matrix], input_length=MAX_LEN_C, trainable=False)\n",
    "# question_embedding_layer = Embedding(NB_WORDS,300, weights=[emb_matrix], input_length=MAX_LEN_Q, trainable=False)\n",
    "# context_embedded_sequences = context_embedding_layer(context_input)\n",
    "# question_embedded_sequences = question_embedding_layer(question_input)\n",
    "\n",
    "# #First read question, then read context conditioned on question output\n",
    "# #hidden state (h_state) and cell state (c_state) of question LSTM layer passed into context LSTM layer\n",
    "# question = Bidirectional(GRU(128, return_sequences=False))(question_embedded_sequences)\n",
    "# qr = RepeatVector(MAX_LEN_C)(question)\n",
    "# #co-attention \n",
    "# DQ = Concatenate([qr, context_embedded_sequences], name='merge1')\n",
    "# D = LSTM(256, return_sequences=False)(DQ)\n",
    "\n",
    "# L = Concatenate([D, question], name='merge2')\n",
    "\n",
    "# answerPtrBegin_output = Dense(context_maxlen, activation='softmax')(L)\n",
    "# Lmerge = Concatenate([L, answerPtrBegin_output], name='merge3')\n",
    "# answerPtrEnd_output = Dense(context_maxlen, activation='softmax')(Lmerge)\n",
    "\n",
    "\n",
    "# model = Model(input=[context_input, question_input], output=[answerPtrBegin_output, answerPtrEnd_output])\n",
    "# rms = optimizers.RMSprop(lr=0.0005)\n",
    "\n",
    "# model.compile(optimizer=rms, loss='categorical_crossentropy', loss_weights=[.04, 0.04], metrics=['accuracy'])\n",
    "\n",
    "# model.summary()"
   ]
  },
  {
   "cell_type": "code",
   "execution_count": null,
   "metadata": {},
   "outputs": [],
   "source": []
  },
  {
   "cell_type": "markdown",
   "metadata": {},
   "source": [
    "### Word2Vec Embedding"
   ]
  },
  {
   "cell_type": "code",
   "execution_count": 118,
   "metadata": {},
   "outputs": [],
   "source": [
    "# %%time \n",
    "\n",
    "# import logging\n",
    "# logging.basicConfig(format='%(asctime)s : %(levelname)s : %(message)s',\\\n",
    "#     level=logging.INFO)\n",
    "\n",
    "# # Set values for various parameters\n",
    "# VEC_DIM = 300    # Word vector dimensionality                      \n",
    "# MIN_COUNT = 40   # Minimum word count                        \n",
    "# WORKERS = 4     # Number of threads to run in parallel\n",
    "# WINDOW = 10    # Context window size                                                                                    \n",
    "# DOWN = 1e-3   # Downsample setting for frequent words\n",
    "\n",
    "# from gensim.models import word2vec\n",
    "# print(\"Training model...\")\n",
    "\n",
    "# #Context\n",
    "# Xc = word2vec.Word2Vec(X, workers=WORKERS,\n",
    "#             size=VEC_DIM, min_count = MIN_COUNT,\n",
    "#             window = WINDOW, sample = DOWN)\n",
    "\n",
    "# #Questions\n",
    "# Xq = word2vec.Word2Vec(Xq, workers=WORKERS,\n",
    "#             size=VEC_DIM, min_count = MIN_COUNT,\n",
    "#             window = WINDOW, sample = DOWN)"
   ]
  },
  {
   "cell_type": "code",
   "execution_count": null,
   "metadata": {},
   "outputs": [],
   "source": []
  }
 ],
 "metadata": {
  "kernelspec": {
   "display_name": "Python 3",
   "language": "python",
   "name": "python3"
  },
  "language_info": {
   "codemirror_mode": {
    "name": "ipython",
    "version": 3
   },
   "file_extension": ".py",
   "mimetype": "text/x-python",
   "name": "python",
   "nbconvert_exporter": "python",
   "pygments_lexer": "ipython3",
   "version": "3.6.5"
  }
 },
 "nbformat": 4,
 "nbformat_minor": 2
}
