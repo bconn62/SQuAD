{
 "cells": [
  {
   "cell_type": "markdown",
   "metadata": {},
   "source": [
    "## SQuAD 2.0\n",
    "\n",
    "Reading comprehension/information retrieval models are the building blocks of chatbots that a lot of businesses are leveraging primarily for customer service. \n",
    "\n",
    "The Stanford Question Answering Dataset (SQuAD) is a reading comprehension dataset, consisting of questions on a set of Wikipedia articles, where the answer to answerable questions (there are questions that are impossible to answer with the information provided) is a segment or span within the corresponding reading passage. The objective is to build Neural Networks that will be able to predict the span of the answer within the corresponding passage or context. \n",
    "\n"
   ]
  },
  {
   "cell_type": "code",
   "execution_count": 1,
   "metadata": {},
   "outputs": [
    {
     "name": "stderr",
     "output_type": "stream",
     "text": [
      "Using TensorFlow backend.\n"
     ]
    }
   ],
   "source": [
    "import pandas as pd\n",
    "import numpy as np\n",
    "import matplotlib.pyplot as plt\n",
    "import seaborn as sns\n",
    "\n",
    "import nltk\n",
    "import re\n",
    "import gensim.models.word2vec as w2v\n",
    "import sklearn.manifold\n",
    "import glob\n",
    "from tqdm import tqdm, tqdm_notebook\n",
    "from functools import reduce\n",
    "\n",
    "from keras.layers.embeddings import Embedding\n",
    "from keras.layers import Dense, Dropout, RepeatVector, Flatten, recurrent, LSTM, Concatenate, Input\n",
    "from keras.models import Sequential, Model\n",
    "from keras.preprocessing.sequence import pad_sequences\n",
    "from keras.preprocessing.text import text_to_word_sequence, Tokenizer\n",
    "from keras.utils.np_utils import to_categorical\n",
    "from keras.utils import plot_model\n",
    "from IPython.display import SVG\n",
    "from keras.utils.vis_utils import model_to_dot\n",
    "from sklearn.preprocessing import LabelEncoder\n",
    "\n",
    "%matplotlib inline"
   ]
  },
  {
   "cell_type": "markdown",
   "metadata": {},
   "source": [
    "### Load in JSON File"
   ]
  },
  {
   "cell_type": "code",
   "execution_count": 2,
   "metadata": {},
   "outputs": [],
   "source": [
    "train = pd.read_json('./data/train-v2.0.json')\n",
    "test = pd.read_json('./data/dev-v2.0.json')"
   ]
  },
  {
   "cell_type": "code",
   "execution_count": 3,
   "metadata": {},
   "outputs": [],
   "source": [
    "# train[\"data\"][0]"
   ]
  },
  {
   "cell_type": "code",
   "execution_count": 4,
   "metadata": {},
   "outputs": [],
   "source": [
    "# train_topics = []\n",
    "# for aid in tqdm(range(len(train[\"data\"]))):\n",
    "#     topic = train[\"data\"][aid][\"title\"]\n",
    "#     train_topics.append(topic)\n",
    "    \n",
    "# print(len(train_topics))"
   ]
  },
  {
   "cell_type": "code",
   "execution_count": 5,
   "metadata": {},
   "outputs": [],
   "source": [
    "# test_topics = []\n",
    "# for aid in tqdm(range(len(test[\"data\"]))):\n",
    "#     topic = test[\"data\"][aid][\"title\"]\n",
    "#     test_topics.append(topic)\n",
    "    \n",
    "# print(len(test_topics))"
   ]
  },
  {
   "cell_type": "code",
   "execution_count": 6,
   "metadata": {},
   "outputs": [
    {
     "name": "stderr",
     "output_type": "stream",
     "text": [
      "100%|██████████| 442/442 [00:00<00:00, 3652.74it/s]\n"
     ]
    }
   ],
   "source": [
    "#extract data from train JSON file to dictionary\n",
    "\n",
    "train_dict = {\"contexts\": [], \"questions\": [], \"answers\": [], \"answer_starts\": []}\n",
    "\n",
    "for aid in tqdm(range(len(train[\"data\"]))):\n",
    "    articles = train[\"data\"][aid][\"paragraphs\"]\n",
    "    for pid in range(len(articles)):\n",
    "        qas = articles[pid][\"qas\"]\n",
    "        for qid in range(len(qas)):\n",
    "            if qas[qid][\"is_impossible\"] == False:\n",
    "                context = articles[pid][\"context\"]\n",
    "                train_dict[\"contexts\"].append(context)\n",
    "                question = qas[qid][\"question\"]\n",
    "                train_dict[\"questions\"].append(question)\n",
    "                answer_text = qas[qid][\"answers\"]\n",
    "                for a in answer_text:\n",
    "                    answer_start = a[\"answer_start\"]\n",
    "                    train_dict[\"answer_starts\"].append(answer_start)\n",
    "                    answer = a[\"text\"]\n",
    "                    train_dict[\"answers\"].append(answer)\n",
    "#                     answer_end = answer_start + len(answer)\n",
    "#                     train_dict[\"answer_ends\"].append(answer_end)\n",
    "                    "
   ]
  },
  {
   "cell_type": "code",
   "execution_count": 7,
   "metadata": {},
   "outputs": [
    {
     "name": "stderr",
     "output_type": "stream",
     "text": [
      "100%|██████████| 35/35 [00:00<00:00, 3481.25it/s]\n"
     ]
    }
   ],
   "source": [
    "#extract data from development/test JSON file to dictionary\n",
    "\n",
    "test_dict = {\"contexts\": [], \"questions\": [], \"answers\": [], \"answer_starts\": []}\n",
    "\n",
    "for aid in tqdm(range(len(test[\"data\"]))):\n",
    "    articles = test[\"data\"][aid][\"paragraphs\"]\n",
    "    for pid in range(len(articles)):\n",
    "        qas = articles[pid][\"qas\"]\n",
    "        for qid in range(len(qas)):\n",
    "            if qas[qid][\"is_impossible\"] == False:\n",
    "                context = articles[pid][\"context\"]\n",
    "                test_dict[\"contexts\"].append(context)\n",
    "                question = qas[qid][\"question\"]\n",
    "                test_dict[\"questions\"].append(question)\n",
    "                answer_text = qas[qid][\"answers\"][0]\n",
    "                answer_start = answer_text[\"answer_start\"]\n",
    "                test_dict[\"answer_starts\"].append(answer_start)\n",
    "                answer = answer_text[\"text\"]\n",
    "                test_dict[\"answers\"].append(answer)\n",
    "#                 answer_end = answer_start + len(answer)\n",
    "#                 test_dict[\"answer_ends\"].append(answer_end)"
   ]
  },
  {
   "cell_type": "code",
   "execution_count": 8,
   "metadata": {},
   "outputs": [],
   "source": [
    "train_df = pd.DataFrame(train_dict)\n",
    "test_df = pd.DataFrame(test_dict)"
   ]
  },
  {
   "cell_type": "code",
   "execution_count": 9,
   "metadata": {},
   "outputs": [
    {
     "name": "stdout",
     "output_type": "stream",
     "text": [
      "(86821, 4)\n",
      "(5928, 4)\n"
     ]
    }
   ],
   "source": [
    "print(train_df.shape)\n",
    "print(test_df.shape)"
   ]
  },
  {
   "cell_type": "code",
   "execution_count": 10,
   "metadata": {},
   "outputs": [
    {
     "data": {
      "text/html": [
       "<div>\n",
       "<style scoped>\n",
       "    .dataframe tbody tr th:only-of-type {\n",
       "        vertical-align: middle;\n",
       "    }\n",
       "\n",
       "    .dataframe tbody tr th {\n",
       "        vertical-align: top;\n",
       "    }\n",
       "\n",
       "    .dataframe thead th {\n",
       "        text-align: right;\n",
       "    }\n",
       "</style>\n",
       "<table border=\"1\" class=\"dataframe\">\n",
       "  <thead>\n",
       "    <tr style=\"text-align: right;\">\n",
       "      <th></th>\n",
       "      <th>contexts</th>\n",
       "      <th>questions</th>\n",
       "      <th>answers</th>\n",
       "      <th>answer_starts</th>\n",
       "    </tr>\n",
       "  </thead>\n",
       "  <tbody>\n",
       "    <tr>\n",
       "      <th>0</th>\n",
       "      <td>Beyoncé Giselle Knowles-Carter (/biːˈjɒnseɪ/ b...</td>\n",
       "      <td>When did Beyonce start becoming popular?</td>\n",
       "      <td>in the late 1990s</td>\n",
       "      <td>269</td>\n",
       "    </tr>\n",
       "    <tr>\n",
       "      <th>1</th>\n",
       "      <td>Beyoncé Giselle Knowles-Carter (/biːˈjɒnseɪ/ b...</td>\n",
       "      <td>What areas did Beyonce compete in when she was...</td>\n",
       "      <td>singing and dancing</td>\n",
       "      <td>207</td>\n",
       "    </tr>\n",
       "    <tr>\n",
       "      <th>2</th>\n",
       "      <td>Beyoncé Giselle Knowles-Carter (/biːˈjɒnseɪ/ b...</td>\n",
       "      <td>When did Beyonce leave Destiny's Child and bec...</td>\n",
       "      <td>2003</td>\n",
       "      <td>526</td>\n",
       "    </tr>\n",
       "    <tr>\n",
       "      <th>3</th>\n",
       "      <td>Beyoncé Giselle Knowles-Carter (/biːˈjɒnseɪ/ b...</td>\n",
       "      <td>In what city and state did Beyonce  grow up?</td>\n",
       "      <td>Houston, Texas</td>\n",
       "      <td>166</td>\n",
       "    </tr>\n",
       "    <tr>\n",
       "      <th>4</th>\n",
       "      <td>Beyoncé Giselle Knowles-Carter (/biːˈjɒnseɪ/ b...</td>\n",
       "      <td>In which decade did Beyonce become famous?</td>\n",
       "      <td>late 1990s</td>\n",
       "      <td>276</td>\n",
       "    </tr>\n",
       "  </tbody>\n",
       "</table>\n",
       "</div>"
      ],
      "text/plain": [
       "                                            contexts  \\\n",
       "0  Beyoncé Giselle Knowles-Carter (/biːˈjɒnseɪ/ b...   \n",
       "1  Beyoncé Giselle Knowles-Carter (/biːˈjɒnseɪ/ b...   \n",
       "2  Beyoncé Giselle Knowles-Carter (/biːˈjɒnseɪ/ b...   \n",
       "3  Beyoncé Giselle Knowles-Carter (/biːˈjɒnseɪ/ b...   \n",
       "4  Beyoncé Giselle Knowles-Carter (/biːˈjɒnseɪ/ b...   \n",
       "\n",
       "                                           questions              answers  \\\n",
       "0           When did Beyonce start becoming popular?    in the late 1990s   \n",
       "1  What areas did Beyonce compete in when she was...  singing and dancing   \n",
       "2  When did Beyonce leave Destiny's Child and bec...                 2003   \n",
       "3      In what city and state did Beyonce  grow up?        Houston, Texas   \n",
       "4         In which decade did Beyonce become famous?           late 1990s   \n",
       "\n",
       "   answer_starts  \n",
       "0            269  \n",
       "1            207  \n",
       "2            526  \n",
       "3            166  \n",
       "4            276  "
      ]
     },
     "execution_count": 10,
     "metadata": {},
     "output_type": "execute_result"
    }
   ],
   "source": [
    "train_df.head()"
   ]
  },
  {
   "cell_type": "code",
   "execution_count": 11,
   "metadata": {},
   "outputs": [
    {
     "data": {
      "text/html": [
       "<div>\n",
       "<style scoped>\n",
       "    .dataframe tbody tr th:only-of-type {\n",
       "        vertical-align: middle;\n",
       "    }\n",
       "\n",
       "    .dataframe tbody tr th {\n",
       "        vertical-align: top;\n",
       "    }\n",
       "\n",
       "    .dataframe thead th {\n",
       "        text-align: right;\n",
       "    }\n",
       "</style>\n",
       "<table border=\"1\" class=\"dataframe\">\n",
       "  <thead>\n",
       "    <tr style=\"text-align: right;\">\n",
       "      <th></th>\n",
       "      <th>contexts</th>\n",
       "      <th>questions</th>\n",
       "      <th>answers</th>\n",
       "      <th>answer_starts</th>\n",
       "    </tr>\n",
       "  </thead>\n",
       "  <tbody>\n",
       "    <tr>\n",
       "      <th>0</th>\n",
       "      <td>The Normans (Norman: Nourmands; French: Norman...</td>\n",
       "      <td>In what country is Normandy located?</td>\n",
       "      <td>France</td>\n",
       "      <td>159</td>\n",
       "    </tr>\n",
       "    <tr>\n",
       "      <th>1</th>\n",
       "      <td>The Normans (Norman: Nourmands; French: Norman...</td>\n",
       "      <td>When were the Normans in Normandy?</td>\n",
       "      <td>10th and 11th centuries</td>\n",
       "      <td>94</td>\n",
       "    </tr>\n",
       "    <tr>\n",
       "      <th>2</th>\n",
       "      <td>The Normans (Norman: Nourmands; French: Norman...</td>\n",
       "      <td>From which countries did the Norse originate?</td>\n",
       "      <td>Denmark, Iceland and Norway</td>\n",
       "      <td>256</td>\n",
       "    </tr>\n",
       "    <tr>\n",
       "      <th>3</th>\n",
       "      <td>The Normans (Norman: Nourmands; French: Norman...</td>\n",
       "      <td>Who was the Norse leader?</td>\n",
       "      <td>Rollo</td>\n",
       "      <td>308</td>\n",
       "    </tr>\n",
       "    <tr>\n",
       "      <th>4</th>\n",
       "      <td>The Normans (Norman: Nourmands; French: Norman...</td>\n",
       "      <td>What century did the Normans first gain their ...</td>\n",
       "      <td>10th century</td>\n",
       "      <td>671</td>\n",
       "    </tr>\n",
       "  </tbody>\n",
       "</table>\n",
       "</div>"
      ],
      "text/plain": [
       "                                            contexts  \\\n",
       "0  The Normans (Norman: Nourmands; French: Norman...   \n",
       "1  The Normans (Norman: Nourmands; French: Norman...   \n",
       "2  The Normans (Norman: Nourmands; French: Norman...   \n",
       "3  The Normans (Norman: Nourmands; French: Norman...   \n",
       "4  The Normans (Norman: Nourmands; French: Norman...   \n",
       "\n",
       "                                           questions  \\\n",
       "0               In what country is Normandy located?   \n",
       "1                 When were the Normans in Normandy?   \n",
       "2      From which countries did the Norse originate?   \n",
       "3                          Who was the Norse leader?   \n",
       "4  What century did the Normans first gain their ...   \n",
       "\n",
       "                       answers  answer_starts  \n",
       "0                       France            159  \n",
       "1      10th and 11th centuries             94  \n",
       "2  Denmark, Iceland and Norway            256  \n",
       "3                        Rollo            308  \n",
       "4                 10th century            671  "
      ]
     },
     "execution_count": 11,
     "metadata": {},
     "output_type": "execute_result"
    }
   ],
   "source": [
    "test_df.head()"
   ]
  },
  {
   "cell_type": "markdown",
   "metadata": {},
   "source": [
    "##### SQuAD Dataset\n",
    "\n",
    "Issues with Dataset:\n",
    "  1. Some answers don't exactly match what's in the context.\n",
    "  2. One word answers appear in multiple locations.\n",
    "\n",
    "For the first iteration of this project, answers that did not exactly match what was in the context and were one word were removed.\n"
   ]
  },
  {
   "cell_type": "markdown",
   "metadata": {},
   "source": [
    "### Preprocessing before modeling"
   ]
  },
  {
   "cell_type": "code",
   "execution_count": 12,
   "metadata": {},
   "outputs": [],
   "source": [
    "#remove punctuation and set everything to lowercase on train dataframe\n",
    "\n",
    "# for i in tqdm(train_df.select_dtypes(include=object).columns):\n",
    "#     train_df[i] = train_df[i].str.replace(\"[^\\w\\s]\",'')\n",
    "#     train_df[i] = train_df[i].map(lambda x: x.lower())"
   ]
  },
  {
   "cell_type": "code",
   "execution_count": 13,
   "metadata": {},
   "outputs": [],
   "source": [
    "#remove punctuation and set everything to lowercase on test dataframe\n",
    "\n",
    "# for i in tqdm(test_df.select_dtypes(include=object).columns):\n",
    "#     test_df[i] = test_df[i].str.replace(\"[^\\w\\s]\",'')\n",
    "#     test_df[i] = test_df[i].map(lambda x: x.lower())"
   ]
  },
  {
   "cell_type": "code",
   "execution_count": 14,
   "metadata": {},
   "outputs": [
    {
     "name": "stderr",
     "output_type": "stream",
     "text": [
      "100%|██████████| 3/3 [00:06<00:00,  2.81s/it]\n"
     ]
    }
   ],
   "source": [
    "#text_to_word_sequence on a copy of train dataframe to find the max len of each text column for padding\n",
    "\n",
    "train_df_tk = train_df.copy()\n",
    "for i in tqdm(train_df.select_dtypes(include=object).columns):\n",
    "    train_df_tk[i] = train_df_tk[i].map(lambda x: text_to_word_sequence(x))"
   ]
  },
  {
   "cell_type": "code",
   "execution_count": 15,
   "metadata": {},
   "outputs": [
    {
     "name": "stderr",
     "output_type": "stream",
     "text": [
      "100%|██████████| 3/3 [00:00<00:00,  4.81it/s]\n"
     ]
    }
   ],
   "source": [
    "# text_to_word_sequence on a copy of test dataframe to find the max len of each text column for padding\n",
    "\n",
    "test_df_tk = test_df.copy()\n",
    "for i in tqdm(test_df.select_dtypes(include=object).columns):\n",
    "    test_df_tk[i] = test_df_tk[i].map(lambda x: text_to_word_sequence(x))"
   ]
  },
  {
   "cell_type": "code",
   "execution_count": 16,
   "metadata": {},
   "outputs": [],
   "source": [
    "# #creates a token index to token mapping\n",
    "\n",
    "# def get_char_word_loc_mapping(context, context_tokens):\n",
    "#     acc = '' # accumulator\n",
    "#     current_token_idx = 0 # current word loc\n",
    "#     mapping = dict()\n",
    "#     word_starts = {\"idx_start\":[], \"word_start\":[]}\n",
    "#     for char_idx, char in enumerate(context): # iterate through characters\n",
    "#         if char != ' ': # if it's not a space:\n",
    "#             acc += char # add to accumulator\n",
    "#             context_token = context_tokens[current_token_idx] # current word token\n",
    "#             if acc == context_token: # if the accumulator matches the current word token\n",
    "#                 syn_start = char_idx - len(acc) + 1 # char loc of the start of this word\n",
    "#                 word_starts[\"idx_start\"].append(syn_start)\n",
    "#                 word_starts[\"word_start\"].append(current_token_idx)\n",
    "# #                 for char_loc in range(syn_start, char_idx+1):\n",
    "#                 mapping[current_token_idx] = acc # add to mapping\n",
    "#                 acc = '' # reset accumulator\n",
    "#                 current_token_idx += 1\n",
    "\n",
    "#     return mapping"
   ]
  },
  {
   "cell_type": "code",
   "execution_count": 17,
   "metadata": {},
   "outputs": [],
   "source": [
    "# word_idx = {\"start_idx\": [], \"end_idx\": []}\n",
    "# for i in range(len(train_df_tk[\"contexts\"])):\n",
    "#     len_ans = len(train_df_tk[\"answers\"][i])\n",
    "#     mapping = get_char_word_loc_mapping(train_df[\"contexts\"][i], train_df_tk[\"contexts\"][i])\n",
    "#     for k,v in mapping.items():\n",
    "#         end_idx = k + (len_ans - 1)\n",
    "#         if v == train_df_tk[\"answers\"][i][0] and mapping[end_idx] == train_df_tk[\"answers\"][i][-1]:\n",
    "#             word_idx[\"start_idx\"].append(k)\n",
    "#             word_idx[\"end_idx\"].append(end_idx)\n",
    "#         else:\n",
    "#             pass"
   ]
  },
  {
   "cell_type": "code",
   "execution_count": 18,
   "metadata": {},
   "outputs": [],
   "source": [
    "#function returns the start and end token indices of answers within the document\n",
    "#takes in the document and answers as a list of tokens\n",
    "\n",
    "def find_startend_index(list_of_words, answer):\n",
    "        len_ans = len(answer)\n",
    "        list_of_words.append(\"\")\n",
    "        start_idx = [idx for idx,w in enumerate(list_of_words[:(-1*len_ans)]) if w == answer[0] and list_of_words[idx + (len_ans -1)] == answer[-1]]\n",
    "#         print(start_idx)\n",
    "#         if len(start_idx) != 1:\n",
    "#             print(start_idx)\n",
    "#             print(answer)\n",
    "#             print(list_of_words)\n",
    "        if len(start_idx) > 0 and len(start_idx) < 2:\n",
    "            end_idx = start_idx[0] + (len_ans -1)\n",
    "            return start_idx[0], end_idx     \n",
    "        else:\n",
    "            return None, None"
   ]
  },
  {
   "cell_type": "code",
   "execution_count": 19,
   "metadata": {},
   "outputs": [],
   "source": [
    "train_word_idx = {\"start_idx\": [], \"end_idx\": []}\n",
    "for i in range(len(train_df_tk[\"contexts\"])):\n",
    "    start_idx, end_idx = find_startend_index(train_df_tk[\"contexts\"][i], train_df_tk[\"answers\"][i])\n",
    "    if start_idx == None  and end_idx == None:\n",
    "        train_word_idx[\"start_idx\"].append(None)\n",
    "        train_word_idx[\"end_idx\"].append(None)\n",
    "    else:\n",
    "        train_word_idx[\"start_idx\"].append(int(start_idx))\n",
    "        train_word_idx[\"end_idx\"].append(int(end_idx))"
   ]
  },
  {
   "cell_type": "code",
   "execution_count": 20,
   "metadata": {},
   "outputs": [],
   "source": [
    "test_word_idx = {\"start_idx\": [], \"end_idx\": []}\n",
    "for i in range(len(test_df_tk[\"contexts\"])):\n",
    "    start_idx, end_idx = find_startend_index(test_df_tk[\"contexts\"][i], test_df_tk[\"answers\"][i])\n",
    "    if start_idx == None and end_idx == None:\n",
    "        test_word_idx[\"start_idx\"].append(None)\n",
    "        test_word_idx[\"end_idx\"].append(None)\n",
    "    else:\n",
    "        test_word_idx[\"start_idx\"].append(int(start_idx))\n",
    "        test_word_idx[\"end_idx\"].append(int(end_idx))"
   ]
  },
  {
   "cell_type": "code",
   "execution_count": 21,
   "metadata": {},
   "outputs": [],
   "source": [
    "train_idx_df = pd.DataFrame(train_word_idx)\n",
    "test_idx_df = pd.DataFrame(test_word_idx)"
   ]
  },
  {
   "cell_type": "code",
   "execution_count": 22,
   "metadata": {},
   "outputs": [],
   "source": [
    "#concat start/end index dataframe with original\n",
    "\n",
    "train_df_tk = pd.concat([train_df_tk, train_idx_df], axis=1)\n",
    "test_df_tk = pd.concat([test_df_tk, test_idx_df], axis=1)"
   ]
  },
  {
   "cell_type": "code",
   "execution_count": 23,
   "metadata": {},
   "outputs": [],
   "source": [
    "#drop rows where answers don't match exactly what's in the context\n",
    "train_df_tk.dropna(inplace = True)\n",
    "test_df_tk.dropna(inplace = True)"
   ]
  },
  {
   "cell_type": "code",
   "execution_count": 24,
   "metadata": {},
   "outputs": [],
   "source": [
    "train_df_tk.reset_index(inplace=True)\n",
    "test_df_tk.reset_index(inplace=True)"
   ]
  },
  {
   "cell_type": "code",
   "execution_count": 25,
   "metadata": {},
   "outputs": [
    {
     "data": {
      "text/html": [
       "<div>\n",
       "<style scoped>\n",
       "    .dataframe tbody tr th:only-of-type {\n",
       "        vertical-align: middle;\n",
       "    }\n",
       "\n",
       "    .dataframe tbody tr th {\n",
       "        vertical-align: top;\n",
       "    }\n",
       "\n",
       "    .dataframe thead th {\n",
       "        text-align: right;\n",
       "    }\n",
       "</style>\n",
       "<table border=\"1\" class=\"dataframe\">\n",
       "  <thead>\n",
       "    <tr style=\"text-align: right;\">\n",
       "      <th></th>\n",
       "      <th>index</th>\n",
       "      <th>contexts</th>\n",
       "      <th>questions</th>\n",
       "      <th>answers</th>\n",
       "      <th>answer_starts</th>\n",
       "      <th>start_idx</th>\n",
       "      <th>end_idx</th>\n",
       "    </tr>\n",
       "  </thead>\n",
       "  <tbody>\n",
       "  </tbody>\n",
       "</table>\n",
       "</div>"
      ],
      "text/plain": [
       "Empty DataFrame\n",
       "Columns: [index, contexts, questions, answers, answer_starts, start_idx, end_idx]\n",
       "Index: []"
      ]
     },
     "execution_count": 25,
     "metadata": {},
     "output_type": "execute_result"
    }
   ],
   "source": [
    "train_df_tk[train_df_tk[\"start_idx\"].isnull()]"
   ]
  },
  {
   "cell_type": "code",
   "execution_count": 26,
   "metadata": {},
   "outputs": [
    {
     "data": {
      "text/plain": [
       "75578"
      ]
     },
     "execution_count": 26,
     "metadata": {},
     "output_type": "execute_result"
    }
   ],
   "source": [
    "len(train_df_tk[\"start_idx\"])"
   ]
  },
  {
   "cell_type": "code",
   "execution_count": 27,
   "metadata": {},
   "outputs": [],
   "source": [
    "# train_df"
   ]
  },
  {
   "cell_type": "code",
   "execution_count": 28,
   "metadata": {},
   "outputs": [],
   "source": [
    "Xc_sr = train_df_tk[\"contexts\"]\n",
    "Xq_sr = train_df_tk[\"questions\"]\n",
    "y_sr = train_df[\"answers\"]\n",
    "ys_sr = train_df_tk[\"start_idx\"]\n",
    "ye_sr = train_df_tk[\"end_idx\"]\n",
    "\n",
    "Xc_test_sr = test_df_tk[\"contexts\"]\n",
    "Xq_test_sr = test_df_tk[\"questions\"]\n",
    "y_test_sr = test_df[\"answers\"]\n",
    "ys_test_sr = test_df_tk[\"start_idx\"]\n",
    "ye_test_sr = test_df_tk[\"end_idx\"]\n",
    "\n",
    "Xc_tk = train_df_tk[\"contexts\"]\n",
    "Xq_tk = train_df_tk[\"questions\"]"
   ]
  },
  {
   "cell_type": "code",
   "execution_count": 29,
   "metadata": {},
   "outputs": [],
   "source": [
    "# tk = Tokenizer(num_words=10000)\n",
    "# tk.fit_on_texts(total)"
   ]
  },
  {
   "cell_type": "code",
   "execution_count": 30,
   "metadata": {},
   "outputs": [],
   "source": [
    "# len(tk.word_index)"
   ]
  },
  {
   "cell_type": "code",
   "execution_count": 31,
   "metadata": {},
   "outputs": [],
   "source": [
    "# len_word_idx = len(tk.word_index)\n",
    "# vocab_size = len_word_idx + 1\n",
    "# word_idx = tk.word_index"
   ]
  },
  {
   "cell_type": "code",
   "execution_count": 32,
   "metadata": {},
   "outputs": [],
   "source": [
    "NB_WORDS = 95219  #Number of unique words in vocabulary dictionary\n",
    "MAX_LEN_C =  len(max(Xc_tk, key=len)) #Maximum number of words in context\n",
    "MAX_LEN_Q =  len(max(Xq_tk, key=len)) #Maximum number of words in question"
   ]
  },
  {
   "cell_type": "code",
   "execution_count": 33,
   "metadata": {},
   "outputs": [
    {
     "data": {
      "text/plain": [
       "676"
      ]
     },
     "execution_count": 33,
     "metadata": {},
     "output_type": "execute_result"
    }
   ],
   "source": [
    "MAX_LEN_C"
   ]
  },
  {
   "cell_type": "code",
   "execution_count": 34,
   "metadata": {},
   "outputs": [],
   "source": [
    "#function to tokenize a corpus\n",
    "#takes in the corpus, unique vocabulary size, max len for padding\n",
    "\n",
    "def tokenize_text(text, num_words, max_len):\n",
    "    tk = Tokenizer(num_words=num_words)\n",
    "    tk.fit_on_texts(text)\n",
    "    text_seq = tk.texts_to_sequences(text)\n",
    "    text_seq_pad = pad_sequences(text_seq, maxlen=max_len)\n",
    "    return text_seq_pad"
   ]
  },
  {
   "cell_type": "code",
   "execution_count": 35,
   "metadata": {},
   "outputs": [],
   "source": [
    "Xc_train = tokenize_text(Xc_sr, NB_WORDS, MAX_LEN_C)\n",
    "Xq_train = tokenize_text(Xq_sr, NB_WORDS, MAX_LEN_Q)\n",
    "\n",
    "Xc_test = tokenize_text(Xc_test_sr, NB_WORDS, MAX_LEN_C)\n",
    "Xq_test = tokenize_text(Xq_test_sr, NB_WORDS, MAX_LEN_Q)"
   ]
  },
  {
   "cell_type": "code",
   "execution_count": 36,
   "metadata": {},
   "outputs": [],
   "source": [
    "# y_train = tokenize_text(y_sr, NB_WORDS, MAX_LEN_C)\n",
    "# y_test= tokenize_text(y_test_sr, NB_WORDS, MAX_LEN_C)"
   ]
  },
  {
   "cell_type": "code",
   "execution_count": 37,
   "metadata": {},
   "outputs": [],
   "source": [
    "# y_train = train_df[[\"start_idx\", \"end_idx\"]]\n",
    "# y_test = test_df[[\"start_idx\", \"end_idx\"]]"
   ]
  },
  {
   "cell_type": "code",
   "execution_count": 38,
   "metadata": {},
   "outputs": [
    {
     "name": "stderr",
     "output_type": "stream",
     "text": [
      "100%|██████████| 75578/75578 [00:00<00:00, 75635.18it/s]\n"
     ]
    }
   ],
   "source": [
    "con_len = []\n",
    "for i in tqdm(range(len(train_df_tk[\"start_idx\"]))):\n",
    "    con_len.append(len(train_df_tk[\"contexts\"][i]))"
   ]
  },
  {
   "cell_type": "code",
   "execution_count": 39,
   "metadata": {},
   "outputs": [],
   "source": [
    "train_df_tk[\"context_length\"] = con_len"
   ]
  },
  {
   "cell_type": "code",
   "execution_count": 40,
   "metadata": {},
   "outputs": [],
   "source": [
    "# train_df_tk.head()"
   ]
  },
  {
   "cell_type": "code",
   "execution_count": 41,
   "metadata": {
    "scrolled": false
   },
   "outputs": [
    {
     "data": {
      "text/html": [
       "<div>\n",
       "<style scoped>\n",
       "    .dataframe tbody tr th:only-of-type {\n",
       "        vertical-align: middle;\n",
       "    }\n",
       "\n",
       "    .dataframe tbody tr th {\n",
       "        vertical-align: top;\n",
       "    }\n",
       "\n",
       "    .dataframe thead th {\n",
       "        text-align: right;\n",
       "    }\n",
       "</style>\n",
       "<table border=\"1\" class=\"dataframe\">\n",
       "  <thead>\n",
       "    <tr style=\"text-align: right;\">\n",
       "      <th></th>\n",
       "      <th>index</th>\n",
       "      <th>contexts</th>\n",
       "      <th>questions</th>\n",
       "      <th>answers</th>\n",
       "      <th>answer_starts</th>\n",
       "      <th>start_idx</th>\n",
       "      <th>end_idx</th>\n",
       "      <th>context_length</th>\n",
       "    </tr>\n",
       "  </thead>\n",
       "  <tbody>\n",
       "  </tbody>\n",
       "</table>\n",
       "</div>"
      ],
      "text/plain": [
       "Empty DataFrame\n",
       "Columns: [index, contexts, questions, answers, answer_starts, start_idx, end_idx, context_length]\n",
       "Index: []"
      ]
     },
     "execution_count": 41,
     "metadata": {},
     "output_type": "execute_result"
    }
   ],
   "source": [
    "(train_df_tk[train_df_tk[\"context_length\"] < train_df_tk[\"start_idx\"]])"
   ]
  },
  {
   "cell_type": "code",
   "execution_count": 42,
   "metadata": {},
   "outputs": [
    {
     "name": "stderr",
     "output_type": "stream",
     "text": [
      "100%|██████████| 75578/75578 [00:02<00:00, 30504.11it/s]\n"
     ]
    }
   ],
   "source": [
    "y_array_train = np.zeros((len(train_df_tk[\"start_idx\"]), MAX_LEN_C))\n",
    "for i in tqdm(range(len(y_array_train))):\n",
    "    idx = int(MAX_LEN_C - len(train_df_tk[\"contexts\"][i]) + train_df_tk[\"start_idx\"][i] - 1)\n",
    "    y_array_train[i][idx] = 1\n"
   ]
  },
  {
   "cell_type": "code",
   "execution_count": 43,
   "metadata": {},
   "outputs": [
    {
     "name": "stderr",
     "output_type": "stream",
     "text": [
      "100%|██████████| 5059/5059 [00:00<00:00, 30414.90it/s]\n"
     ]
    }
   ],
   "source": [
    "y_array_test = np.zeros((len(test_df_tk[\"start_idx\"]), MAX_LEN_C))\n",
    "for i in tqdm(range(len(y_array_test))):\n",
    "    idx = int(MAX_LEN_C - len(test_df_tk[\"contexts\"][i]) + test_df_tk[\"start_idx\"][i] - 1)\n",
    "    y_array_test[i][idx] = 1"
   ]
  },
  {
   "cell_type": "markdown",
   "metadata": {},
   "source": [
    "### GloVe Embedding\n",
    "\n",
    "https://nlp.stanford.edu/projects/glove/"
   ]
  },
  {
   "cell_type": "code",
   "execution_count": 44,
   "metadata": {},
   "outputs": [
    {
     "name": "stderr",
     "output_type": "stream",
     "text": [
      "400000it [00:25, 15611.03it/s]\n"
     ]
    }
   ],
   "source": [
    "# Create a dictionary of words to word vectors.\n",
    "\n",
    "GLOVE_DIM = 300\n",
    "\n",
    "glove_file = 'glove.6B.' + str(GLOVE_DIM) + 'd.txt'\n",
    "emb_dict = {}\n",
    "glove = open('./data/' + glove_file)\n",
    "for line in tqdm(glove):\n",
    "    values = line.split()\n",
    "    word = values[0]\n",
    "    vector = np.asarray(values[1:], dtype='float32')\n",
    "    emb_dict[word] = vector\n",
    "glove.close()"
   ]
  },
  {
   "cell_type": "code",
   "execution_count": 45,
   "metadata": {},
   "outputs": [],
   "source": [
    "# total_Xc = pd.concat([Xc_sr, Xc_test_sr], axis = 0)\n",
    "# total_Xq = pd.concat([Xq_sr, Xq_test_sr], axis = 0)"
   ]
  },
  {
   "cell_type": "code",
   "execution_count": 46,
   "metadata": {},
   "outputs": [],
   "source": [
    "# #tokenize the concat corpuses to get the unique vocab list from tk.word_index\n",
    "\n",
    "# tk_Xc = Tokenizer(num_words=NB_WORDS)\n",
    "# tk_Xc.fit_on_texts(total_Xc)\n",
    "# tk_Xc_train_seq = tk_Xc.texts_to_sequences(total_Xc)\n",
    "\n",
    "\n",
    "# tk_Xq = Tokenizer(num_words=NB_WORDS)\n",
    "# tk_Xq.fit_on_texts(total_Xq)\n",
    "# tk_Xq_train_seq = tk_Xq.texts_to_sequences(total_Xq)"
   ]
  },
  {
   "cell_type": "code",
   "execution_count": 47,
   "metadata": {},
   "outputs": [],
   "source": [
    "#concat the contexts and questions vertically to get a full vocabulary list.\n",
    "\n",
    "total = pd.concat([Xc_sr, Xq_sr, Xc_test_sr, Xq_test_sr], axis = 0)"
   ]
  },
  {
   "cell_type": "code",
   "execution_count": 48,
   "metadata": {},
   "outputs": [],
   "source": [
    "#tokenize the concat corpuses to get the unique vocab list from tk.word_index\n",
    "tk = Tokenizer(num_words=95219)\n",
    "tk.fit_on_texts(total)\n",
    "tk_train_seq = tk.texts_to_sequences(total)"
   ]
  },
  {
   "cell_type": "code",
   "execution_count": 49,
   "metadata": {},
   "outputs": [
    {
     "data": {
      "text/plain": [
       "94434"
      ]
     },
     "execution_count": 49,
     "metadata": {},
     "output_type": "execute_result"
    }
   ],
   "source": [
    "len(tk.word_index)"
   ]
  },
  {
   "cell_type": "code",
   "execution_count": 50,
   "metadata": {},
   "outputs": [],
   "source": [
    "#create an embedding matrix based on the pretrained GloVe word vectors\n",
    "#use embedding matrix as weights in the embedding layer of Neural Network\n",
    "\n",
    "emb_matrix = np.zeros((95219, GLOVE_DIM))\n",
    "\n",
    "for w, i in tk.word_index.items():\n",
    "    # The word_index contains a token for all words of the training data so we need to limit that\n",
    "    if i < NB_WORDS:\n",
    "        vect = emb_dict.get(w)\n",
    "        # Check if the word from the training data occurs in the GloVe word embeddings\n",
    "        # Otherwise the vector is kept with only zeros\n",
    "        if vect is not None:\n",
    "            emb_matrix[i] = vect\n",
    "    else:\n",
    "        break"
   ]
  },
  {
   "cell_type": "code",
   "execution_count": 51,
   "metadata": {},
   "outputs": [],
   "source": [
    "# emb_matrix[1]"
   ]
  },
  {
   "cell_type": "code",
   "execution_count": 52,
   "metadata": {},
   "outputs": [],
   "source": [
    "# #function that replaces words in corpus with pretrained GloVe word vectors\n",
    "\n",
    "# def text_to_glove(text):\n",
    "#     glove = text.copy()\n",
    "#     for j, line in tqdm(enumerate(text)):\n",
    "#         for i in range(len(line)):\n",
    "#             vect = emb_dict.get(line[i])\n",
    "#             if type(vect) != None:\n",
    "#                 glove[j][i] = vect\n",
    "#             else:\n",
    "#                 glove[j][i] = np.zeros((1, 300))  \n",
    "#     return glove\n"
   ]
  },
  {
   "cell_type": "markdown",
   "metadata": {},
   "source": [
    "### Baseline Model with GloVe Embedding"
   ]
  },
  {
   "cell_type": "code",
   "execution_count": 53,
   "metadata": {},
   "outputs": [],
   "source": [
    "EMBED_HIDDEN_SIZE = 300\n",
    "BATCH_SIZE = 32\n",
    "EPOCHS = 50"
   ]
  },
  {
   "cell_type": "code",
   "execution_count": 81,
   "metadata": {},
   "outputs": [
    {
     "name": "stdout",
     "output_type": "stream",
     "text": [
      "__________________________________________________________________________________________________\n",
      "Layer (type)                    Output Shape         Param #     Connected to                     \n",
      "==================================================================================================\n",
      "question_input (InputLayer)     (None, 40)           0                                            \n",
      "__________________________________________________________________________________________________\n",
      "context_input (InputLayer)      (None, 676)          0                                            \n",
      "__________________________________________________________________________________________________\n",
      "embedding_14 (Embedding)        (None, 40, 300)      28565700    question_input[0][0]             \n",
      "__________________________________________________________________________________________________\n",
      "embedding_13 (Embedding)        (None, 676, 300)     28565700    context_input[0][0]              \n",
      "__________________________________________________________________________________________________\n",
      "lstm_13 (LSTM)                  [(None, 16), (None,  20288       embedding_14[0][0]               \n",
      "__________________________________________________________________________________________________\n",
      "lstm_14 (LSTM)                  (None, 16)           20288       embedding_13[0][0]               \n",
      "                                                                 lstm_13[0][1]                    \n",
      "                                                                 lstm_13[0][2]                    \n",
      "__________________________________________________________________________________________________\n",
      "dense_7 (Dense)                 (None, 676)          11492       lstm_14[0][0]                    \n",
      "__________________________________________________________________________________________________\n",
      "output (Dense)                  (None, 676)          457652      dense_7[0][0]                    \n",
      "==================================================================================================\n",
      "Total params: 57,641,120\n",
      "Trainable params: 509,720\n",
      "Non-trainable params: 57,131,400\n",
      "__________________________________________________________________________________________________\n"
     ]
    }
   ],
   "source": [
    "#inputs\n",
    "context_input = Input(shape=(MAX_LEN_C,), name=\"context_input\")\n",
    "question_input = Input(shape=(MAX_LEN_Q,), name=\"question_input\")\n",
    "\n",
    "#embedding layers with emb matrix weights based of pre-trained GloVe word vectors\n",
    "context_embedding_layer = Embedding(NB_WORDS, 300, weights=[emb_matrix], input_length=MAX_LEN_C, trainable=False)\n",
    "question_embedding_layer = Embedding(NB_WORDS,300, weights=[emb_matrix], input_length=MAX_LEN_Q, trainable=False)\n",
    "context_embedded_sequences = context_embedding_layer(context_input)\n",
    "question_embedded_sequences = question_embedding_layer(question_input)\n",
    "\n",
    "#First read question, then read context conditioned on question output\n",
    "#hidden state (h_state) and cell state (c_state) of question LSTM layer passed into context LSTM layer\n",
    "question_encoder, h_state, c_state = LSTM(16, return_state=True, dropout=0.3)(question_embedded_sequences)\n",
    "#co-attention \n",
    "context_encoder = LSTM(16, dropout=0.3)(context_embedded_sequences, initial_state=[h_state, c_state])\n",
    "\n",
    "\n",
    "intermediate = Dense(MAX_LEN_C, activation='relu')(context_encoder)\n",
    "predictions = Dense(MAX_LEN_C,activation='softmax', name='output')(intermediate)\n",
    "model = Model(inputs=[context_input,question_input],outputs=predictions)\n",
    "model.summary()\n",
    "\n",
    "model.compile(optimizer='adam',loss='categorical_crossentropy',metrics=['accuracy'])"
   ]
  },
  {
   "cell_type": "code",
   "execution_count": 82,
   "metadata": {},
   "outputs": [],
   "source": [
    "plot_model(model, to_file='model.png')"
   ]
  },
  {
   "cell_type": "code",
   "execution_count": 83,
   "metadata": {},
   "outputs": [
    {
     "name": "stdout",
     "output_type": "stream",
     "text": [
      "Train on 52904 samples, validate on 22674 samples\n",
      "Epoch 1/10\n",
      "52904/52904 [==============================] - 1058s 20ms/step - loss: 5.1879 - acc: 0.0100 - val_loss: 5.2034 - val_acc: 0.0082\n",
      "Epoch 2/10\n",
      "52904/52904 [==============================] - 1585s 30ms/step - loss: 5.1396 - acc: 0.0112 - val_loss: 5.1945 - val_acc: 0.0089\n",
      "Epoch 3/10\n",
      "52904/52904 [==============================] - 1664s 31ms/step - loss: 5.1226 - acc: 0.0122 - val_loss: 5.2139 - val_acc: 0.0078\n",
      "Epoch 4/10\n",
      "52904/52904 [==============================] - 1661s 31ms/step - loss: 5.1054 - acc: 0.0130 - val_loss: 5.2135 - val_acc: 0.0096\n",
      "Epoch 5/10\n",
      "52904/52904 [==============================] - 1667s 32ms/step - loss: 5.0875 - acc: 0.0144 - val_loss: 5.2125 - val_acc: 0.0090\n",
      "Epoch 6/10\n",
      "52904/52904 [==============================] - 1671s 32ms/step - loss: 5.0717 - acc: 0.0158 - val_loss: 5.2395 - val_acc: 0.0098\n",
      "Epoch 7/10\n",
      "52904/52904 [==============================] - 1668s 32ms/step - loss: 5.0566 - acc: 0.0162 - val_loss: 5.2353 - val_acc: 0.0105\n",
      "Epoch 8/10\n",
      "52904/52904 [==============================] - 1666s 31ms/step - loss: 5.0395 - acc: 0.0172 - val_loss: 5.2578 - val_acc: 0.0105\n",
      "Epoch 9/10\n",
      "52904/52904 [==============================] - 1675s 32ms/step - loss: 5.0242 - acc: 0.0177 - val_loss: 5.2811 - val_acc: 0.0101\n",
      "Epoch 10/10\n",
      "52904/52904 [==============================] - 1672s 32ms/step - loss: 4.9698 - acc: 0.0191 - val_loss: 5.1642 - val_acc: 0.0088\n"
     ]
    }
   ],
   "source": [
    "history = model.fit({'context_input':Xc_train,'question_input':Xq_train},{'output':y_array_train},\n",
    "          epochs=10, batch_size=BATCH_SIZE, validation_split = 0.3)"
   ]
  },
  {
   "cell_type": "code",
   "execution_count": 84,
   "metadata": {},
   "outputs": [
    {
     "name": "stdout",
     "output_type": "stream",
     "text": [
      "5059/5059 [==============================] - 24s 5ms/step\n"
     ]
    },
    {
     "data": {
      "text/plain": [
       "[5.71524963663557, 0.0075113658825854916]"
      ]
     },
     "execution_count": 84,
     "metadata": {},
     "output_type": "execute_result"
    }
   ],
   "source": [
    "model.evaluate([Xc_test, Xq_test], y_array_test, batch_size=BATCH_SIZE)"
   ]
  },
  {
   "cell_type": "code",
   "execution_count": 58,
   "metadata": {},
   "outputs": [
    {
     "data": {
      "text/plain": [
       "[<matplotlib.lines.Line2D at 0x1a678f3860>]"
      ]
     },
     "execution_count": 58,
     "metadata": {},
     "output_type": "execute_result"
    },
    {
     "data": {
      "image/png": "[encoded data removed]",
      "text/plain": [
       "<Figure size 720x432 with 1 Axes>"
      ]
     },
     "metadata": {
      "needs_background": "light"
     },
     "output_type": "display_data"
    }
   ],
   "source": [
    "plt.figure(figsize=(10,6))\n",
    "plt.plot(history.history[\"loss\"], label=\"Loss\")\n",
    "plt.plot(history.history[\"val_loss\"], label=\"Val_Loss\")"
   ]
  },
  {
   "cell_type": "code",
   "execution_count": 85,
   "metadata": {},
   "outputs": [],
   "source": [
    "predictions = model.predict([Xc_test, Xq_test])"
   ]
  },
  {
   "cell_type": "code",
   "execution_count": 86,
   "metadata": {},
   "outputs": [
    {
     "data": {
      "text/plain": [
       "5059"
      ]
     },
     "execution_count": 86,
     "metadata": {},
     "output_type": "execute_result"
    }
   ],
   "source": [
    "len(predictions)"
   ]
  },
  {
   "cell_type": "code",
   "execution_count": 87,
   "metadata": {},
   "outputs": [
    {
     "data": {
      "text/plain": [
       "array([4.0877576e-14, 4.2965919e-14, 4.1320239e-14, 3.7270673e-14,\n",
       "       4.0341889e-14, 3.2292199e-14, 3.7526257e-14, 4.2147502e-14,\n",
       "       3.8352324e-14, 3.9366578e-14, 3.8221677e-14, 3.9173031e-14,\n",
       "       4.3902104e-14, 4.1853182e-14, 3.9719022e-14, 3.9298531e-14,\n",
       "       3.6890948e-14, 3.3713660e-14, 4.2239893e-14, 4.2612127e-14,\n",
       "       4.3673510e-14, 3.6077224e-14, 3.6734440e-14, 3.6719871e-14,\n",
       "       3.4045158e-14, 3.4461454e-14, 3.8636981e-14, 3.7250276e-14,\n",
       "       3.4636675e-14, 3.9483431e-14, 4.1883370e-14, 4.0906511e-14,\n",
       "       3.9833578e-14, 4.5505090e-14, 3.2102928e-14, 4.1025824e-14,\n",
       "       4.2824051e-14, 3.9535354e-14, 4.1165347e-14, 4.4694791e-14,\n",
       "       3.9772012e-14, 4.2568586e-14, 3.9656117e-14, 3.6900940e-14,\n",
       "       3.9541616e-14, 4.3200527e-14, 3.8942540e-14, 3.8747607e-14,\n",
       "       3.3832576e-14, 4.2092872e-14, 4.0909865e-14, 4.1492800e-14,\n",
       "       4.0255800e-14, 3.9463932e-14, 4.0176640e-14, 4.6422779e-14,\n",
       "       4.3673012e-14, 3.8626888e-14, 4.5379760e-14, 3.7325733e-14,\n",
       "       4.2037832e-14, 3.7269538e-14, 4.4229977e-14, 3.8130730e-14,\n",
       "       3.6647243e-14, 4.0749983e-14, 3.2610589e-14, 3.5962078e-14,\n",
       "       3.6301833e-14, 3.9311954e-14, 3.9008032e-14, 3.1904174e-14,\n",
       "       3.8850321e-14, 3.6195842e-14, 4.3229628e-14, 3.7067205e-14,\n",
       "       3.3985923e-14, 4.4478019e-14, 3.2726924e-14, 3.5749388e-14,\n",
       "       4.2671338e-14, 3.6253325e-14, 3.6527910e-14, 4.1943726e-14,\n",
       "       4.2386779e-14, 3.7247718e-14, 3.7764927e-14, 4.1049775e-14,\n",
       "       3.8750934e-14, 3.3544263e-14, 4.5262801e-14, 3.3844709e-14,\n",
       "       3.9170419e-14, 3.8737039e-14, 4.1168488e-14, 4.0496073e-14,\n",
       "       3.6565620e-14, 3.6215937e-14, 3.8314593e-14, 4.1207607e-14,\n",
       "       3.5156767e-14, 3.6768298e-14, 4.0984214e-14, 4.1239534e-14,\n",
       "       4.0634495e-14, 3.8605231e-14, 3.8231882e-14, 4.3562447e-14,\n",
       "       4.2653272e-14, 4.1113875e-14, 3.7070671e-14, 3.7768891e-14,\n",
       "       3.6561157e-14, 3.7072792e-14, 3.8691997e-14, 4.3034979e-14,\n",
       "       3.8368932e-14, 3.7782870e-14, 3.6662554e-14, 3.7835871e-14,\n",
       "       3.9242203e-14, 3.8748935e-14, 4.3919522e-14, 4.1820944e-14,\n",
       "       6.8102652e-15, 4.2813680e-14, 3.8408692e-14, 3.4403792e-14,\n",
       "       4.0046884e-14, 3.8985647e-14, 4.5677004e-14, 3.7355789e-14,\n",
       "       3.8579688e-14, 3.8403559e-14, 4.1545462e-14, 3.4167520e-14,\n",
       "       4.0306896e-14, 4.0348353e-14, 4.1693991e-14, 3.8484956e-14,\n",
       "       4.4779268e-14, 4.6124989e-14, 3.6168649e-14, 4.4430453e-14,\n",
       "       4.1579235e-14, 4.1834666e-14, 4.0070950e-14, 3.9976750e-14,\n",
       "       4.3748381e-14, 4.2380148e-14, 3.7168161e-14, 3.5790527e-14,\n",
       "       3.5429531e-14, 3.5991307e-14, 3.5915600e-14, 4.0551648e-14,\n",
       "       3.9857064e-14, 3.3540807e-14, 3.7104058e-14, 3.7231879e-14,\n",
       "       4.5913451e-14, 3.9675332e-14, 4.2734947e-14, 4.2072808e-14,\n",
       "       3.9773984e-14, 4.3366135e-14, 3.9932243e-14, 8.5368764e-14,\n",
       "       4.1602796e-14, 3.7200931e-14, 3.9340530e-14, 3.9839049e-14,\n",
       "       3.9825981e-14, 3.8830914e-14, 4.2424306e-14, 4.1453091e-14,\n",
       "       3.5686369e-14, 3.6801694e-14, 3.4469606e-14, 4.2633753e-14,\n",
       "       3.7402417e-14, 3.2932248e-14, 4.0636277e-14, 4.2585967e-14,\n",
       "       4.2077141e-14, 4.0540359e-14, 3.3917798e-14, 4.1275810e-14,\n",
       "       3.6901346e-15, 4.6240559e-14, 3.7010901e-14, 3.8893622e-14,\n",
       "       3.9193363e-14, 3.7262928e-14, 3.5794213e-14, 4.1131049e-14,\n",
       "       3.8806330e-14, 4.0199096e-14, 3.6653884e-14, 3.7232661e-14,\n",
       "       3.4138467e-14, 3.3321649e-14, 4.8517309e-14, 4.0123802e-14,\n",
       "       4.1849113e-14, 4.3465672e-14, 3.7310433e-14, 4.1960050e-14,\n",
       "       3.6773837e-14, 3.8998586e-14, 4.0224643e-14, 4.0669152e-14,\n",
       "       4.2361398e-14, 4.4830455e-14, 3.5137126e-14, 3.7098258e-14,\n",
       "       4.1556558e-14, 3.6936640e-14, 3.5534360e-14, 3.7896322e-14,\n",
       "       3.4124535e-14, 4.2254879e-14, 3.6796009e-14, 1.7079909e-14,\n",
       "       3.6189835e-14, 4.2437418e-14, 3.7900662e-14, 4.1983584e-14,\n",
       "       3.7842010e-14, 4.0874845e-14, 3.8224666e-14, 3.5831987e-14,\n",
       "       3.7526257e-14, 4.3305549e-14, 4.2656203e-14, 3.6043037e-14,\n",
       "       4.2354290e-14, 4.7957278e-14, 3.9426467e-14, 1.2398944e-14,\n",
       "       4.2339752e-14, 2.9111633e-15, 4.7214491e-14, 3.7883169e-14,\n",
       "       3.8269165e-14, 3.7534557e-14, 3.6007103e-14, 3.9804643e-14,\n",
       "       4.0285680e-14, 4.3069057e-14, 3.4725085e-12, 3.4642753e-14,\n",
       "       4.1617795e-14, 5.2395493e-15, 4.0957878e-14, 3.8500815e-14,\n",
       "       7.0825693e-11, 3.7716771e-14, 3.9025075e-14, 4.0183311e-14,\n",
       "       3.8487154e-14, 3.9251863e-14, 4.4920586e-14, 4.2929362e-15,\n",
       "       4.1413264e-14, 4.8190456e-14, 3.9457986e-14, 1.0905033e-13,\n",
       "       3.5606141e-14, 3.3891415e-14, 3.5065622e-14, 4.3755140e-14,\n",
       "       4.2753785e-14, 1.0285543e-13, 3.9003719e-14, 4.2401897e-14,\n",
       "       3.9940090e-14, 7.1584697e-16, 4.1756861e-14, 3.4717434e-14,\n",
       "       1.8792550e-15, 4.9728881e-15, 3.5949871e-14, 4.2508545e-14,\n",
       "       3.8969882e-14, 3.9356590e-14, 3.7764710e-14, 3.6320671e-14,\n",
       "       4.2352430e-14, 3.9678584e-14, 1.7599897e-12, 3.8996875e-14,\n",
       "       3.8375665e-14, 3.8088138e-14, 4.5060632e-14, 3.9689260e-14,\n",
       "       4.0608925e-14, 2.5182227e-13, 3.6063393e-14, 3.6022078e-14,\n",
       "       3.5098277e-14, 3.8562327e-14, 5.3056233e-14, 3.1215877e-13,\n",
       "       4.8476607e-14, 4.2165514e-14, 3.7758374e-14, 3.6215453e-14,\n",
       "       4.0799598e-14, 3.7304029e-14, 4.6348460e-14, 3.5915739e-14,\n",
       "       3.7232021e-14, 3.8364612e-14, 4.0571377e-14, 3.9358995e-14,\n",
       "       1.2335726e-14, 4.4617623e-14, 8.5919848e-12, 3.7226837e-14,\n",
       "       3.8698787e-14, 4.4208638e-14, 2.4752088e-12, 3.6202195e-14,\n",
       "       6.2179397e-16, 3.5389480e-14, 2.1937155e-13, 1.3089398e-11,\n",
       "       4.2641885e-14, 2.4064034e-10, 8.1553075e-13, 3.9705008e-14,\n",
       "       4.7087121e-15, 3.6034720e-14, 3.9285642e-14, 4.8889441e-14,\n",
       "       3.0992736e-14, 3.9894486e-14, 4.1830119e-14, 3.7255037e-14,\n",
       "       8.1617066e-12, 3.5876304e-14, 4.5602577e-14, 1.9247416e-11,\n",
       "       4.0448601e-14, 7.6345187e-14, 3.6815244e-14, 1.3263427e-12,\n",
       "       3.9276203e-14, 3.7354651e-14, 1.2324039e-10, 4.3412976e-14,\n",
       "       4.1026525e-14, 1.0253606e-11, 4.5758977e-10, 3.9979647e-14,\n",
       "       4.6264425e-12, 5.2464174e-12, 5.3747090e-11, 1.6500287e-18,\n",
       "       4.2857797e-14, 2.1312214e-08, 4.0885528e-14, 8.7062774e-11,\n",
       "       4.1314012e-14, 1.0294887e-09, 1.7899490e-10, 1.3174727e-12,\n",
       "       3.0771719e-11, 3.5072479e-12, 3.6837988e-11, 9.5404462e-10,\n",
       "       5.6144794e-10, 2.6213358e-09, 4.0460944e-14, 7.0451734e-17,\n",
       "       1.8270255e-10, 3.8891545e-14, 3.6394939e-14, 6.9076106e-11,\n",
       "       1.8112969e-14, 2.5064776e-13, 1.2329495e-08, 6.5665520e-12,\n",
       "       4.6740363e-12, 2.8831297e-12, 6.3363892e-10, 2.9313521e-10,\n",
       "       8.3136709e-12, 3.3748788e-14, 1.7741260e-11, 5.1412569e-11,\n",
       "       1.3340118e-09, 7.4116324e-11, 8.7402523e-11, 1.9509275e-12,\n",
       "       2.2419380e-09, 1.4248423e-07, 2.3423813e-12, 9.6825392e-10,\n",
       "       4.2134309e-07, 2.1761239e-14, 9.1903845e-09, 9.4407156e-12,\n",
       "       1.7920669e-10, 1.5122392e-07, 5.2074494e-11, 1.4163153e-09,\n",
       "       2.2605667e-11, 7.9538491e-09, 1.5001709e-12, 4.7382862e-09,\n",
       "       2.8267493e-09, 1.1717566e-10, 1.5211432e-09, 1.9563355e-07,\n",
       "       4.9532991e-09, 2.7622249e-08, 5.0102815e-09, 2.7271957e-11,\n",
       "       2.3396745e-09, 6.4982558e-10, 8.5008800e-08, 3.7140086e-11,\n",
       "       1.3402731e-09, 5.8006941e-07, 9.6827012e-11, 1.0093253e-11,\n",
       "       8.6007412e-06, 6.4013886e-07, 4.0812279e-07, 3.6156742e-09,\n",
       "       1.8816522e-08, 8.2919286e-08, 1.9927899e-08, 2.0243688e-08,\n",
       "       1.5839865e-07, 6.3033553e-08, 1.2466512e-09, 1.8335425e-07,\n",
       "       9.8084490e-07, 1.8025467e-10, 1.0611456e-07, 7.5404671e-10,\n",
       "       3.1490850e-09, 1.0509420e-06, 7.1123458e-07, 1.1597632e-06,\n",
       "       1.3045102e-08, 2.2509219e-08, 2.8551690e-06, 2.1920431e-07,\n",
       "       1.1832625e-06, 7.3984700e-07, 6.1997987e-08, 1.7271367e-09,\n",
       "       3.3930567e-07, 2.4887663e-07, 1.2988075e-08, 2.6356659e-06,\n",
       "       6.9262995e-07, 2.4948722e-06, 7.7284255e-08, 1.6641073e-07,\n",
       "       2.5044829e-07, 1.5854140e-06, 3.9717627e-08, 4.6997204e-08,\n",
       "       1.2174544e-07, 4.1268577e-06, 1.5378087e-06, 3.5043379e-07,\n",
       "       2.4662426e-05, 7.3981278e-06, 5.1478219e-07, 5.3208180e-07,\n",
       "       5.7326520e-06, 5.5220170e-07, 1.8222310e-05, 1.5468982e-05,\n",
       "       2.8117777e-06, 1.2106281e-05, 2.0826393e-07, 2.7976710e-06,\n",
       "       1.5266703e-05, 8.6041626e-05, 2.9501565e-05, 1.8099307e-05,\n",
       "       3.2354289e-06, 2.2587937e-04, 9.1183565e-06, 1.4360437e-05,\n",
       "       3.8912298e-05, 1.0220843e-05, 9.4110027e-07, 2.9423512e-05,\n",
       "       1.8202700e-05, 5.4233646e-05, 2.1781427e-06, 1.6073457e-06,\n",
       "       6.7262095e-05, 1.7289860e-04, 2.4592402e-05, 8.6343054e-05,\n",
       "       2.3045432e-05, 1.6853670e-05, 4.6119899e-06, 7.7059722e-06,\n",
       "       7.8867424e-06, 1.1946397e-04, 7.2532297e-05, 5.2695544e-03,\n",
       "       3.4944951e-05, 1.8878543e-05, 8.9666493e-05, 4.5891844e-05,\n",
       "       2.3451413e-04, 1.1510739e-04, 9.2892040e-04, 2.1051090e-05,\n",
       "       6.9573720e-04, 5.9495345e-05, 6.4842883e-05, 8.2734146e-04,\n",
       "       1.4595166e-04, 1.5771463e-04, 2.5531722e-04, 1.4880809e-03,\n",
       "       4.7360889e-05, 2.3329872e-04, 4.6397766e-04, 1.4973365e-03,\n",
       "       5.0100579e-04, 2.6027882e-04, 1.7595387e-04, 3.3125628e-04,\n",
       "       1.6479022e-03, 3.7763285e-04, 2.9258966e-04, 1.7171014e-03,\n",
       "       6.5179757e-04, 7.9169392e-04, 1.6045975e-04, 2.6553057e-04,\n",
       "       4.3796672e-04, 1.7098302e-03, 1.2812307e-03, 1.5097597e-03,\n",
       "       1.7499550e-03, 2.2712343e-03, 3.5302029e-03, 9.7954657e-04,\n",
       "       1.0364063e-03, 5.9922058e-03, 2.7072411e-03, 1.8013364e-03,\n",
       "       1.6402706e-04, 1.8681367e-03, 2.7817667e-03, 1.3815304e-03,\n",
       "       1.7713936e-03, 1.8644840e-03, 5.7547848e-04, 3.0684387e-02,\n",
       "       1.5705359e-03, 3.4957642e-03, 2.4604343e-03, 2.2732681e-03,\n",
       "       2.5092012e-03, 6.5961932e-03, 5.6767743e-03, 5.8385637e-03,\n",
       "       4.6061566e-03, 1.1742129e-03, 1.0396319e-02, 1.0108494e-02,\n",
       "       3.9587067e-03, 1.4550305e-03, 7.3559256e-03, 1.2253976e-03,\n",
       "       3.1148547e-03, 1.9844745e-03, 2.8624805e-03, 2.1533379e-03,\n",
       "       3.4653933e-03, 1.2789313e-03, 5.6262515e-03, 5.9182220e-03,\n",
       "       1.1091384e-02, 9.1719208e-03, 2.3825398e-02, 5.2144518e-03,\n",
       "       1.8793344e-03, 6.0173869e-03, 9.5862020e-03, 2.7076332e-03,\n",
       "       1.4341149e-02, 1.0798479e-02, 6.9570024e-03, 8.6149983e-03,\n",
       "       1.0423859e-02, 4.5937262e-03, 7.7879862e-03, 8.5591888e-03,\n",
       "       1.9992063e-02, 4.1355072e-03, 1.0806292e-02, 8.2284166e-03,\n",
       "       5.4291650e-03, 1.1258124e-02, 5.4964041e-03, 1.2036755e-02,\n",
       "       3.8806160e-03, 3.6589399e-03, 5.3420081e-03, 1.9814879e-02,\n",
       "       6.4845202e-03, 7.5206119e-03, 8.1268689e-03, 3.5377659e-03,\n",
       "       2.1997275e-02, 6.2908204e-03, 1.6869266e-02, 5.1152301e-03,\n",
       "       3.5352288e-03, 1.7563406e-02, 6.2128105e-03, 8.9750504e-03,\n",
       "       2.5765393e-03, 7.6461122e-03, 8.8013550e-03, 4.2228969e-03,\n",
       "       7.6041459e-03, 2.3392767e-03, 7.0708431e-03, 5.6317700e-03,\n",
       "       2.0734069e-03, 5.7094549e-03, 2.0925567e-02, 7.0940293e-03,\n",
       "       1.2332741e-02, 5.4835468e-03, 1.7405093e-02, 2.5136463e-02,\n",
       "       2.0197256e-02, 4.3809153e-03, 5.8801966e-03, 5.7120337e-03,\n",
       "       9.5241368e-03, 8.5652517e-03, 1.3312735e-02, 9.6231271e-03,\n",
       "       4.7774692e-03, 1.9438237e-02, 2.1288548e-02, 1.3181180e-02,\n",
       "       5.4003759e-03, 2.3210077e-03, 4.6565239e-03, 2.6152742e-03,\n",
       "       4.6679005e-03, 6.7093205e-03, 7.0570535e-03, 6.7287483e-03,\n",
       "       9.9534001e-03, 4.2900466e-03, 3.4179788e-03, 9.0467716e-03,\n",
       "       1.1060007e-02, 3.0385517e-03, 1.3804524e-02, 1.9060673e-02,\n",
       "       3.2286313e-03, 5.6772400e-02, 4.5129356e-14, 4.0229013e-14],\n",
       "      dtype=float32)"
      ]
     },
     "execution_count": 87,
     "metadata": {},
     "output_type": "execute_result"
    }
   ],
   "source": [
    "predictions[0]"
   ]
  },
  {
   "cell_type": "code",
   "execution_count": 62,
   "metadata": {},
   "outputs": [],
   "source": [
    "# contrnn = Sequential()\n",
    "# contrnn.add(Embedding(vocab_size, EMBED_HIDDEN_SIZE, input_length = MAX_LEN_C, weights=[emb_matrix], trainable=False))\n",
    "# contrnn.add(Dropout(0.3))\n",
    "\n",
    "# qrnn = Sequential()\n",
    "# qrnn.add(Embedding(vocab_size, EMBED_HIDDEN_SIZE, input_length = MAX_LEN_Q))\n",
    "# qrnn.add(Dropout(0.3))\n",
    "# qrnn.add(LSTM(EMBED_HIDDEN_SIZE, return_sequences=False))\n",
    "# qrnn.add(RepeatVector(MAX_LEN_C))\n",
    "\n",
    "# model = Sequential()\n",
    "# # model.add(Merge([sentrnn, qrnn], mode='sum'))\n",
    "# model.add(Concatenate([contrnn, qrnn]))\n",
    "# model.add(LSTM(EMBED_HIDDEN_SIZE, return_sequences=False))\n",
    "# model.add(Dropout(0.3))\n",
    "# model.add(Dense(2, activation='relu'))\n",
    "\n",
    "# model.compile(optimizer='adam', loss='categorical_crossentropy', metrics=['accuracy'])\n"
   ]
  },
  {
   "cell_type": "code",
   "execution_count": 63,
   "metadata": {},
   "outputs": [],
   "source": [
    "%%script false\n",
    "model.fit([Xc_train, Xq_train], y_train, batch_size=BATCH_SIZE, epochs=EPOCHS, validation_split=0.3)"
   ]
  },
  {
   "cell_type": "code",
   "execution_count": 64,
   "metadata": {},
   "outputs": [],
   "source": [
    "%%script false\n",
    "loss, acc = model.evaluate([tX, tXq], tY, batch_size=BATCH_SIZE)\n",
    "print('Test loss / test accuracy = {:.4f} / {:.4f}'.format(loss, acc))"
   ]
  },
  {
   "cell_type": "markdown",
   "metadata": {},
   "source": [
    "### Word2Vec Embedding"
   ]
  },
  {
   "cell_type": "code",
   "execution_count": null,
   "metadata": {},
   "outputs": [],
   "source": [
    "%%time \n",
    "\n",
    "import logging\n",
    "logging.basicConfig(format='%(asctime)s : %(levelname)s : %(message)s',\\\n",
    "    level=logging.INFO)\n",
    "\n",
    "# Set values for various parameters\n",
    "VEC_DIM = 300    # Word vector dimensionality                      \n",
    "MIN_COUNT = 40   # Minimum word count                        \n",
    "WORKERS = 4     # Number of threads to run in parallel\n",
    "WINDOW = 10    # Context window size                                                                                    \n",
    "DOWN = 1e-3   # Downsample setting for frequent words\n",
    "\n",
    "from gensim.models import word2vec\n",
    "print(\"Training model...\")\n",
    "\n",
    "#Context\n",
    "Xc = word2vec.Word2Vec(X, workers=WORKERS,\n",
    "            size=VEC_DIM, min_count = MIN_COUNT,\n",
    "            window = WINDOW, sample = DOWN)\n",
    "\n",
    "#Questions\n",
    "Xq = word2vec.Word2Vec(Xq, workers=WORKERS,\n",
    "            size=VEC_DIM, min_count = MIN_COUNT,\n",
    "            window = WINDOW, sample = DOWN)"
   ]
  },
  {
   "cell_type": "code",
   "execution_count": null,
   "metadata": {},
   "outputs": [],
   "source": []
  }
 ],
 "metadata": {
  "kernelspec": {
   "display_name": "Python 3",
   "language": "python",
   "name": "python3"
  },
  "language_info": {
   "codemirror_mode": {
    "name": "ipython",
    "version": 3
   },
   "file_extension": ".py",
   "mimetype": "text/x-python",
   "name": "python",
   "nbconvert_exporter": "python",
   "pygments_lexer": "ipython3",
   "version": "3.6.5"
  }
 },
 "nbformat": 4,
 "nbformat_minor": 2
}
